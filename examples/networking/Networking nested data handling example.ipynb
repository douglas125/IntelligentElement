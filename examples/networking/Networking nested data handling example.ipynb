{
 "cells": [
  {
   "cell_type": "markdown",
   "metadata": {},
   "source": [
    "# Handling Networking Data\n",
    "\n",
    "This notebook shows how to use IntelligentElement to handle nested networking data. \n",
    "\n",
    "The example uses captures obtained using CISCO Joy - https://github.com/cisco/joy\n",
    "You can either use Joy to capture network traffic directly or extract information from PCAPS files using Joy.\n",
    "\n",
    "## Obtain data from file\n",
    "\n",
    "The first step is to read Joy file, a gzip compresses list of dictionaries."
   ]
  },
  {
   "cell_type": "code",
   "execution_count": 1,
   "metadata": {},
   "outputs": [],
   "source": [
    "import json\n",
    "import gzip\n",
    "import struct\n",
    "\n",
    "def GzipFileSize(filename):\n",
    "    '''\n",
    "    Auxiliary function that returns the size of a Gzip file.\n",
    "    filename - Path to the Gzip file\n",
    "    returns - Uncompressed size of Gzip file in bytes\n",
    "    ''' \n",
    "    fo = open(filename, 'rb')\n",
    "    fo.seek(-4, 2)\n",
    "    r = fo.read()\n",
    "    fo.close()\n",
    "    return struct.unpack('<I', r)[0]\n",
    "def LoadJoyJson(filename):\n",
    "    '''\n",
    "    Loads a .gzip file extracted from PCAP using CISCO's Joy tool.\n",
    "    filename - Path to the Gzip file\n",
    "    returns - List of dictionaries. Each entry corresponds to a flow capture in Joy file.\n",
    "    '''\n",
    "    fileData = []\n",
    "    totalsize = GzipFileSize(filename)\n",
    "    \n",
    "    i=0\n",
    "    #pbar = tqdm(total= (totalsize>>10) )\n",
    "        \n",
    "    with gzip.open(filename) as infile: #we do not want to load the entire file into memory\n",
    "        iterFile = iter(infile)\n",
    "        headerData = json.loads(next(iterFile).decode('utf-8').replace('\\\\',''))\n",
    "        for bline in iterFile:\n",
    "            #pbar.update( (infile.tell()>>10) - pbar.n )\n",
    "            \n",
    "            i=i+1\n",
    "            line = bline.decode('utf-8')\n",
    "            try:\n",
    "                dj = json.loads(line.replace('\\\\',''))\n",
    "                fileData.append(dj)\n",
    "            except:\n",
    "                print('Problem loading JSON line')\n",
    "\n",
    "    return fileData"
   ]
  },
  {
   "cell_type": "code",
   "execution_count": 2,
   "metadata": {},
   "outputs": [],
   "source": [
    "files = ['PCData/news/newsFolha.gz', 'PCData/socialmedia/logFacebook.gz', 'PCData/videostreaming/logYoutube.gz', 'PCData/videostreaming/logYoutube3.gz']\n",
    "net_data = []\n",
    "labels = []\n",
    "for f in files:\n",
    "    data = LoadJoyJson(f)\n",
    "    net_data += data\n",
    "    if 'news' in f:\n",
    "        labels += [0]*len(data)\n",
    "    elif 'socialmedia' in f:\n",
    "        labels += [1]*len(data)\n",
    "    elif 'videostreaming' in f:\n",
    "        labels += [2]*len(data)"
   ]
  },
  {
   "cell_type": "code",
   "execution_count": 3,
   "metadata": {},
   "outputs": [
    {
     "data": {
      "text/plain": [
       "{'sa': '10.6.11.66',\n",
       " 'da': '200.147.4.47',\n",
       " 'pr': 6,\n",
       " 'sp': 51697,\n",
       " 'dp': 443,\n",
       " 'bytes_out': 865,\n",
       " 'num_pkts_out': 55,\n",
       " 'bytes_in': 182540,\n",
       " 'num_pkts_in': 126,\n",
       " 'time_start': 1531230417.756095,\n",
       " 'time_end': 1531230419.879366,\n",
       " 'packets': [{'b': 441, 'dir': '>', 'ipt': 0},\n",
       "  {'b': 1460, 'dir': '<', 'ipt': 257},\n",
       "  {'b': 1460, 'dir': '<', 'ipt': 0},\n",
       "  {'b': 1460, 'dir': '<', 'ipt': 0},\n",
       "  {'b': 1460, 'dir': '<', 'ipt': 0},\n",
       "  {'b': 1460, 'dir': '<', 'ipt': 0},\n",
       "  {'b': 1460, 'dir': '<', 'ipt': 0},\n",
       "  {'b': 1480, 'dir': '<', 'ipt': 0},\n",
       "  {'b': 1460, 'dir': '<', 'ipt': 0},\n",
       "  {'b': 1460, 'dir': '<', 'ipt': 0},\n",
       "  {'b': 1480, 'dir': '<', 'ipt': 0},\n",
       "  {'b': 1460, 'dir': '<', 'ipt': 249},\n",
       "  {'b': 1460, 'dir': '<', 'ipt': 0},\n",
       "  {'b': 1460, 'dir': '<', 'ipt': 2},\n",
       "  {'b': 1480, 'dir': '<', 'ipt': 0},\n",
       "  {'b': 1460, 'dir': '<', 'ipt': 0},\n",
       "  {'b': 1460, 'dir': '<', 'ipt': 0},\n",
       "  {'b': 1480, 'dir': '<', 'ipt': 0},\n",
       "  {'b': 1460, 'dir': '<', 'ipt': 0},\n",
       "  {'b': 1460, 'dir': '<', 'ipt': 0},\n",
       "  {'b': 1460, 'dir': '<', 'ipt': 247},\n",
       "  {'b': 1460, 'dir': '<', 'ipt': 0},\n",
       "  {'b': 1460, 'dir': '<', 'ipt': 3},\n",
       "  {'b': 1460, 'dir': '<', 'ipt': 0},\n",
       "  {'b': 1460, 'dir': '<', 'ipt': 0},\n",
       "  {'b': 1460, 'dir': '<', 'ipt': 0},\n",
       "  {'b': 1480, 'dir': '<', 'ipt': 0},\n",
       "  {'b': 1480, 'dir': '<', 'ipt': 0},\n",
       "  {'b': 1460, 'dir': '<', 'ipt': 0},\n",
       "  {'b': 1460, 'dir': '<', 'ipt': 0},\n",
       "  {'b': 1460, 'dir': '<', 'ipt': 246},\n",
       "  {'b': 1460, 'dir': '<', 'ipt': 0},\n",
       "  {'b': 1460, 'dir': '<', 'ipt': 2},\n",
       "  {'b': 1460, 'dir': '<', 'ipt': 0},\n",
       "  {'b': 1460, 'dir': '<', 'ipt': 0},\n",
       "  {'b': 1460, 'dir': '<', 'ipt': 0},\n",
       "  {'b': 1460, 'dir': '<', 'ipt': 0},\n",
       "  {'b': 1460, 'dir': '<', 'ipt': 0},\n",
       "  {'b': 1460, 'dir': '<', 'ipt': 2},\n",
       "  {'b': 927, 'dir': '<', 'ipt': 0},\n",
       "  {'b': 424, 'dir': '>', 'ipt': 44},\n",
       "  {'b': 1460, 'dir': '<', 'ipt': 254},\n",
       "  {'b': 1460, 'dir': '<', 'ipt': 0},\n",
       "  {'b': 1460, 'dir': '<', 'ipt': 1},\n",
       "  {'b': 1480, 'dir': '<', 'ipt': 0},\n",
       "  {'b': 1460, 'dir': '<', 'ipt': 0},\n",
       "  {'b': 1480, 'dir': '<', 'ipt': 0},\n",
       "  {'b': 1480, 'dir': '<', 'ipt': 0},\n",
       "  {'b': 1480, 'dir': '<', 'ipt': 0},\n",
       "  {'b': 1460, 'dir': '<', 'ipt': 0},\n",
       "  {'b': 1460, 'dir': '<', 'ipt': 0},\n",
       "  {'b': 1480, 'dir': '<', 'ipt': 0}],\n",
       " 'ip': {'out': {'ttl': 128,\n",
       "   'id': [7155,\n",
       "    7165,\n",
       "    7166,\n",
       "    7167,\n",
       "    7168,\n",
       "    7169,\n",
       "    7176,\n",
       "    7177,\n",
       "    7178,\n",
       "    7179,\n",
       "    7180,\n",
       "    7186,\n",
       "    7187,\n",
       "    7188,\n",
       "    7189,\n",
       "    7190,\n",
       "    7191,\n",
       "    7197,\n",
       "    7198,\n",
       "    7199,\n",
       "    7200,\n",
       "    7201,\n",
       "    7251,\n",
       "    7252,\n",
       "    7253,\n",
       "    7254,\n",
       "    7255,\n",
       "    7256,\n",
       "    7257,\n",
       "    7258,\n",
       "    7259,\n",
       "    7260,\n",
       "    7269,\n",
       "    7290,\n",
       "    7291,\n",
       "    7292,\n",
       "    7293,\n",
       "    7294,\n",
       "    7295,\n",
       "    7296,\n",
       "    7312,\n",
       "    7348,\n",
       "    7349,\n",
       "    7350,\n",
       "    7351,\n",
       "    7352,\n",
       "    7353,\n",
       "    7354,\n",
       "    7355,\n",
       "    7356]},\n",
       "  'in': {'ttl': 43,\n",
       "   'id': [15350,\n",
       "    15351,\n",
       "    15352,\n",
       "    15353,\n",
       "    15356,\n",
       "    15357,\n",
       "    15354,\n",
       "    15358,\n",
       "    15359,\n",
       "    15355,\n",
       "    15360,\n",
       "    15361,\n",
       "    15362,\n",
       "    15365,\n",
       "    15363,\n",
       "    15366,\n",
       "    15364,\n",
       "    15367,\n",
       "    15368,\n",
       "    15369,\n",
       "    15370,\n",
       "    15371,\n",
       "    15372,\n",
       "    15373,\n",
       "    15376,\n",
       "    15375,\n",
       "    15374,\n",
       "    15377,\n",
       "    15378,\n",
       "    15379,\n",
       "    15380,\n",
       "    15381,\n",
       "    15382,\n",
       "    15383,\n",
       "    15384,\n",
       "    15385,\n",
       "    15386,\n",
       "    15387,\n",
       "    15388,\n",
       "    15389,\n",
       "    15390,\n",
       "    15392,\n",
       "    15391,\n",
       "    15396,\n",
       "    15394,\n",
       "    15393,\n",
       "    15395,\n",
       "    15397,\n",
       "    15399,\n",
       "    15398]}},\n",
       " 'debug': {'tcp_retrans': 11, 'invalid': 11},\n",
       " 'expire_type': 'i'}"
      ]
     },
     "execution_count": 3,
     "metadata": {},
     "output_type": "execute_result"
    }
   ],
   "source": [
    "#view data from a single flow\n",
    "net_data[0]"
   ]
  },
  {
   "cell_type": "markdown",
   "metadata": {},
   "source": [
    "# Build Model\n",
    "\n",
    "We will showcase a simple model that will handle:\n",
    "\n",
    "- bytes_out, bytes_in, num_pkts_out, num_pkts_in, time_end-time_start in the first level;\n",
    "- packets as a nested list of dictionaries\n",
    "- ip with nested out and in, with ttl as a number and id as list"
   ]
  },
  {
   "cell_type": "code",
   "execution_count": 4,
   "metadata": {},
   "outputs": [
    {
     "name": "stderr",
     "output_type": "stream",
     "text": [
      "Using TensorFlow backend.\n"
     ]
    }
   ],
   "source": [
    "from keras import Model\n",
    "from keras import layers as L\n",
    "import numpy as np\n",
    "\n",
    "#add two parent levels to path\n",
    "import os,sys,inspect\n",
    "currentdir = os.path.dirname(os.path.abspath(inspect.getfile(inspect.currentframe())))\n",
    "parentdir = os.path.dirname(os.path.dirname(currentdir))\n",
    "sys.path.insert(0,parentdir) \n",
    "\n",
    "%load_ext autoreload\n",
    "%autoreload 2\n",
    "\n",
    "import IntelligentElement as IE"
   ]
  },
  {
   "cell_type": "markdown",
   "metadata": {},
   "source": [
    "## Packets Data"
   ]
  },
  {
   "cell_type": "code",
   "execution_count": 9,
   "metadata": {},
   "outputs": [],
   "source": [
    "def get_pkt_info(x):\n",
    "    pkt_data = x.get('packets', [{'b': 0, 'dir': '>', 'ipt': 0}])\n",
    "    return np.array([[y['b'], int(y['dir']=='>'), y['ipt']] for y in pkt_data])\n",
    "\n",
    "pkt_data  = [get_pkt_info(x) for x in net_data]"
   ]
  },
  {
   "cell_type": "code",
   "execution_count": 10,
   "metadata": {},
   "outputs": [
    {
     "name": "stdout",
     "output_type": "stream",
     "text": [
      "Original model\n",
      "_________________________________________________________________\n",
      "Layer (type)                 Output Shape              Param #   \n",
      "=================================================================\n",
      "input_2 (InputLayer)         (None, None, 3)           0         \n",
      "_________________________________________________________________\n",
      "cu_dnnlstm_2 (CuDNNLSTM)     (None, 16)                1344      \n",
      "=================================================================\n",
      "Total params: 1,344\n",
      "Trainable params: 1,344\n",
      "Non-trainable params: 0\n",
      "_________________________________________________________________\n",
      "\n",
      "\n",
      "Retrieved model\n",
      "_________________________________________________________________\n",
      "Layer (type)                 Output Shape              Param #   \n",
      "=================================================================\n",
      "inp_pkt_ie (InputLayer)      (None, None, 3)           0         \n",
      "_________________________________________________________________\n",
      "m_pkt_ie (Model)             (None, 16)                1344      \n",
      "=================================================================\n",
      "Total params: 1,344\n",
      "Trainable params: 1,344\n",
      "Non-trainable params: 0\n",
      "_________________________________________________________________\n"
     ]
    }
   ],
   "source": [
    "pkt_shape = (None, 3)\n",
    "\n",
    "inp=L.Input(pkt_shape)\n",
    "x  =L.CuDNNLSTM(16)(inp)\n",
    "pkt_model = Model(inputs=inp, outputs=x)\n",
    "\n",
    "print('Original model')\n",
    "pkt_model.summary()\n",
    "\n",
    "pkt_ie = IE.IntelligentElement(pkt_data, pkt_model, pkt_shape, name='pkt_ie')\n",
    "\n",
    "m, ii, oo = pkt_ie.retrieve_model_inputs_outputs()\n",
    "print('\\n\\nRetrieved model')\n",
    "m.summary()"
   ]
  },
  {
   "cell_type": "code",
   "execution_count": 14,
   "metadata": {},
   "outputs": [
    {
     "data": {
      "text/plain": [
       "(4, 100, 3)"
      ]
     },
     "execution_count": 14,
     "metadata": {},
     "output_type": "execute_result"
    }
   ],
   "source": [
    "pkt_ie.get_batch([0,1,2,3])[0].shape"
   ]
  },
  {
   "cell_type": "code",
   "execution_count": 17,
   "metadata": {},
   "outputs": [
    {
     "data": {
      "text/plain": [
       "1"
      ]
     },
     "execution_count": 17,
     "metadata": {},
     "output_type": "execute_result"
    }
   ],
   "source": [
    "len(net_data[3]['packets'])"
   ]
  },
  {
   "cell_type": "code",
   "execution_count": 20,
   "metadata": {},
   "outputs": [
    {
     "name": "stdout",
     "output_type": "stream",
     "text": [
      "[[ 441    1    0]\n",
      " [1460    0  257]\n",
      " [1460    0    0]\n",
      " [1460    0    0]\n",
      " [1460    0    0]]\n"
     ]
    },
    {
     "data": {
      "text/plain": [
       "array([[4.41e+02, 1.00e+00, 0.00e+00],\n",
       "       [1.46e+03, 0.00e+00, 2.57e+02],\n",
       "       [1.46e+03, 0.00e+00, 0.00e+00],\n",
       "       [1.46e+03, 0.00e+00, 0.00e+00],\n",
       "       [1.46e+03, 0.00e+00, 0.00e+00]])"
      ]
     },
     "execution_count": 20,
     "metadata": {},
     "output_type": "execute_result"
    }
   ],
   "source": [
    "print(pkt_data[0][0:5])\n",
    "pkt_ie.get_batch([0,1,2,3])[0][0][0:5]"
   ]
  },
  {
   "cell_type": "code",
   "execution_count": null,
   "metadata": {},
   "outputs": [],
   "source": []
  },
  {
   "cell_type": "code",
   "execution_count": null,
   "metadata": {},
   "outputs": [],
   "source": []
  },
  {
   "cell_type": "markdown",
   "metadata": {},
   "source": [
    "## Root Data"
   ]
  },
  {
   "cell_type": "code",
   "execution_count": 14,
   "metadata": {},
   "outputs": [
    {
     "name": "stdout",
     "output_type": "stream",
     "text": [
      "Original model\n",
      "_________________________________________________________________\n",
      "Layer (type)                 Output Shape              Param #   \n",
      "=================================================================\n",
      "input_4 (InputLayer)         (None, 21)                0         \n",
      "_________________________________________________________________\n",
      "dense_5 (Dense)              (None, 10)                220       \n",
      "_________________________________________________________________\n",
      "dense_6 (Dense)              (None, 10)                110       \n",
      "_________________________________________________________________\n",
      "dense_7 (Dense)              (None, 10)                110       \n",
      "_________________________________________________________________\n",
      "dense_8 (Dense)              (None, 3)                 33        \n",
      "=================================================================\n",
      "Total params: 473\n",
      "Trainable params: 473\n",
      "Non-trainable params: 0\n",
      "_________________________________________________________________\n",
      "\n",
      "\n",
      "Retrieved model\n",
      "__________________________________________________________________________________________________\n",
      "Layer (type)                    Output Shape         Param #     Connected to                     \n",
      "==================================================================================================\n",
      "inp_pkt_ie (InputLayer)         (None, None, 3)      0                                            \n",
      "__________________________________________________________________________________________________\n",
      "m_pkt_ie (Model)                (None, 16)           1344        inp_pkt_ie[0][0]                 \n",
      "__________________________________________________________________________________________________\n",
      "inp_root_ie (InputLayer)        (None, 5)            0                                            \n",
      "__________________________________________________________________________________________________\n",
      "concatenate_1 (Concatenate)     (None, 21)           0           m_pkt_ie[2][0]                   \n",
      "                                                                 inp_root_ie[0][0]                \n",
      "__________________________________________________________________________________________________\n",
      "m_root_ie (Model)               (None, 3)            473         concatenate_1[0][0]              \n",
      "==================================================================================================\n",
      "Total params: 1,817\n",
      "Trainable params: 1,817\n",
      "Non-trainable params: 0\n",
      "__________________________________________________________________________________________________\n"
     ]
    }
   ],
   "source": [
    "def get_root_info(x):\n",
    "    return [x.get('bytes_in', 0), x.get('bytes_out', 0), x.get('num_pkts_in', 0), x.get('num_pkts_out', 0), \n",
    "            x['time_end']-x['time_start']]\n",
    "root_data = [get_root_info(x) for x in net_data]\n",
    "root_shape = (5,)\n",
    "\n",
    "inp=L.Input( (root_shape[-1]+pkt_ie.model.output_shape[-1],) )\n",
    "x=inp\n",
    "for kk in range(3):\n",
    "    x=L.Dense(10, activation='relu')(x)\n",
    "x=L.Dense(3,activation='softmax')(x)\n",
    "root_model = Model(inputs=inp, outputs=x)\n",
    "\n",
    "print('Original model')\n",
    "root_model.summary()\n",
    "\n",
    "root_ie = IE.IntelligentElement(root_data, root_model, root_shape, children_ie=[pkt_ie], name='root_ie')\n",
    "\n",
    "m, ii, oo = root_ie.retrieve_model_inputs_outputs()\n",
    "print('\\n\\nRetrieved model')\n",
    "m.summary()"
   ]
  },
  {
   "cell_type": "code",
   "execution_count": 6,
   "metadata": {},
   "outputs": [
    {
     "data": {
      "text/plain": [
       "[[182540, 865, 126, 55, 2.1232709884643555],\n",
       " [243, 52771, 30, 44, 10.797608852386475],\n",
       " [11938, 8627637, 3568, 5942, 16.691659212112427],\n",
       " [0, 19, 0, 1, 0.0],\n",
       " [0, 19, 0, 1, 0.0]]"
      ]
     },
     "execution_count": 6,
     "metadata": {},
     "output_type": "execute_result"
    }
   ],
   "source": [
    "root_data[0:5]"
   ]
  },
  {
   "cell_type": "code",
   "execution_count": null,
   "metadata": {},
   "outputs": [],
   "source": []
  }
 ],
 "metadata": {
  "kernelspec": {
   "display_name": "Python [default]",
   "language": "python",
   "name": "python3"
  },
  "language_info": {
   "codemirror_mode": {
    "name": "ipython",
    "version": 3
   },
   "file_extension": ".py",
   "mimetype": "text/x-python",
   "name": "python",
   "nbconvert_exporter": "python",
   "pygments_lexer": "ipython3",
   "version": "3.6.7"
  }
 },
 "nbformat": 4,
 "nbformat_minor": 2
}
