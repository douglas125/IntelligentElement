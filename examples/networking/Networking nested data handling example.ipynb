{
 "cells": [
  {
   "cell_type": "markdown",
   "metadata": {},
   "source": [
    "# Handling Networking Data\n",
    "\n",
    "This notebook shows how to use IntelligentElement to handle nested networking data. \n",
    "\n",
    "The example uses captures obtained using CISCO Joy - https://github.com/cisco/joy\n",
    "You can either use Joy to capture network traffic directly or extract information from PCAPS files using Joy.\n",
    "\n",
    "## Obtain data from file\n",
    "\n",
    "The first step is to read Joy file, a gzip compresses list of dictionaries."
   ]
  },
  {
   "cell_type": "code",
   "execution_count": 1,
   "metadata": {},
   "outputs": [],
   "source": [
    "import json\n",
    "import gzip\n",
    "import struct\n",
    "\n",
    "def GzipFileSize(filename):\n",
    "    '''\n",
    "    Auxiliary function that returns the size of a Gzip file.\n",
    "    filename - Path to the Gzip file\n",
    "    returns - Uncompressed size of Gzip file in bytes\n",
    "    ''' \n",
    "    fo = open(filename, 'rb')\n",
    "    fo.seek(-4, 2)\n",
    "    r = fo.read()\n",
    "    fo.close()\n",
    "    return struct.unpack('<I', r)[0]\n",
    "def LoadJoyJson(filename):\n",
    "    '''\n",
    "    Loads a .gzip file extracted from PCAP using CISCO's Joy tool.\n",
    "    filename - Path to the Gzip file\n",
    "    returns - List of dictionaries. Each entry corresponds to a flow capture in Joy file.\n",
    "    '''\n",
    "    fileData = []\n",
    "    totalsize = GzipFileSize(filename)\n",
    "    \n",
    "    i=0\n",
    "    #pbar = tqdm(total= (totalsize>>10) )\n",
    "        \n",
    "    with gzip.open(filename) as infile: #we do not want to load the entire file into memory\n",
    "        iterFile = iter(infile)\n",
    "        headerData = json.loads(next(iterFile).decode('utf-8').replace('\\\\',''))\n",
    "        for bline in iterFile:\n",
    "            #pbar.update( (infile.tell()>>10) - pbar.n )\n",
    "            \n",
    "            i=i+1\n",
    "            line = bline.decode('utf-8')\n",
    "            try:\n",
    "                dj = json.loads(line.replace('\\\\',''))\n",
    "                fileData.append(dj)\n",
    "            except:\n",
    "                print('Problem loading JSON line')\n",
    "\n",
    "    return fileData"
   ]
  },
  {
   "cell_type": "code",
   "execution_count": 2,
   "metadata": {},
   "outputs": [],
   "source": [
    "files = ['PCData/news/newsFolha.gz', 'PCData/socialmedia/logFacebook.gz', 'PCData/videostreaming/logYoutube.gz', 'PCData/videostreaming/logYoutube3.gz']\n",
    "net_data = []\n",
    "labels = []\n",
    "for f in files:\n",
    "    data = LoadJoyJson(f)\n",
    "    net_data += data\n",
    "    if 'news' in f:\n",
    "        labels += [0]*len(data)\n",
    "    elif 'socialmedia' in f:\n",
    "        labels += [1]*len(data)\n",
    "    elif 'videostreaming' in f:\n",
    "        labels += [2]*len(data)"
   ]
  },
  {
   "cell_type": "code",
   "execution_count": 3,
   "metadata": {},
   "outputs": [
    {
     "data": {
      "text/plain": [
       "{'sa': '10.6.11.66',\n",
       " 'da': '200.147.4.47',\n",
       " 'pr': 6,\n",
       " 'sp': 51697,\n",
       " 'dp': 443,\n",
       " 'bytes_out': 865,\n",
       " 'num_pkts_out': 55,\n",
       " 'bytes_in': 182540,\n",
       " 'num_pkts_in': 126,\n",
       " 'time_start': 1531230417.756095,\n",
       " 'time_end': 1531230419.879366,\n",
       " 'packets': [{'b': 441, 'dir': '>', 'ipt': 0},\n",
       "  {'b': 1460, 'dir': '<', 'ipt': 257},\n",
       "  {'b': 1460, 'dir': '<', 'ipt': 0},\n",
       "  {'b': 1460, 'dir': '<', 'ipt': 0},\n",
       "  {'b': 1460, 'dir': '<', 'ipt': 0},\n",
       "  {'b': 1460, 'dir': '<', 'ipt': 0},\n",
       "  {'b': 1460, 'dir': '<', 'ipt': 0},\n",
       "  {'b': 1480, 'dir': '<', 'ipt': 0},\n",
       "  {'b': 1460, 'dir': '<', 'ipt': 0},\n",
       "  {'b': 1460, 'dir': '<', 'ipt': 0},\n",
       "  {'b': 1480, 'dir': '<', 'ipt': 0},\n",
       "  {'b': 1460, 'dir': '<', 'ipt': 249},\n",
       "  {'b': 1460, 'dir': '<', 'ipt': 0},\n",
       "  {'b': 1460, 'dir': '<', 'ipt': 2},\n",
       "  {'b': 1480, 'dir': '<', 'ipt': 0},\n",
       "  {'b': 1460, 'dir': '<', 'ipt': 0},\n",
       "  {'b': 1460, 'dir': '<', 'ipt': 0},\n",
       "  {'b': 1480, 'dir': '<', 'ipt': 0},\n",
       "  {'b': 1460, 'dir': '<', 'ipt': 0},\n",
       "  {'b': 1460, 'dir': '<', 'ipt': 0},\n",
       "  {'b': 1460, 'dir': '<', 'ipt': 247},\n",
       "  {'b': 1460, 'dir': '<', 'ipt': 0},\n",
       "  {'b': 1460, 'dir': '<', 'ipt': 3},\n",
       "  {'b': 1460, 'dir': '<', 'ipt': 0},\n",
       "  {'b': 1460, 'dir': '<', 'ipt': 0},\n",
       "  {'b': 1460, 'dir': '<', 'ipt': 0},\n",
       "  {'b': 1480, 'dir': '<', 'ipt': 0},\n",
       "  {'b': 1480, 'dir': '<', 'ipt': 0},\n",
       "  {'b': 1460, 'dir': '<', 'ipt': 0},\n",
       "  {'b': 1460, 'dir': '<', 'ipt': 0},\n",
       "  {'b': 1460, 'dir': '<', 'ipt': 246},\n",
       "  {'b': 1460, 'dir': '<', 'ipt': 0},\n",
       "  {'b': 1460, 'dir': '<', 'ipt': 2},\n",
       "  {'b': 1460, 'dir': '<', 'ipt': 0},\n",
       "  {'b': 1460, 'dir': '<', 'ipt': 0},\n",
       "  {'b': 1460, 'dir': '<', 'ipt': 0},\n",
       "  {'b': 1460, 'dir': '<', 'ipt': 0},\n",
       "  {'b': 1460, 'dir': '<', 'ipt': 0},\n",
       "  {'b': 1460, 'dir': '<', 'ipt': 2},\n",
       "  {'b': 927, 'dir': '<', 'ipt': 0},\n",
       "  {'b': 424, 'dir': '>', 'ipt': 44},\n",
       "  {'b': 1460, 'dir': '<', 'ipt': 254},\n",
       "  {'b': 1460, 'dir': '<', 'ipt': 0},\n",
       "  {'b': 1460, 'dir': '<', 'ipt': 1},\n",
       "  {'b': 1480, 'dir': '<', 'ipt': 0},\n",
       "  {'b': 1460, 'dir': '<', 'ipt': 0},\n",
       "  {'b': 1480, 'dir': '<', 'ipt': 0},\n",
       "  {'b': 1480, 'dir': '<', 'ipt': 0},\n",
       "  {'b': 1480, 'dir': '<', 'ipt': 0},\n",
       "  {'b': 1460, 'dir': '<', 'ipt': 0},\n",
       "  {'b': 1460, 'dir': '<', 'ipt': 0},\n",
       "  {'b': 1480, 'dir': '<', 'ipt': 0}],\n",
       " 'ip': {'out': {'ttl': 128,\n",
       "   'id': [7155,\n",
       "    7165,\n",
       "    7166,\n",
       "    7167,\n",
       "    7168,\n",
       "    7169,\n",
       "    7176,\n",
       "    7177,\n",
       "    7178,\n",
       "    7179,\n",
       "    7180,\n",
       "    7186,\n",
       "    7187,\n",
       "    7188,\n",
       "    7189,\n",
       "    7190,\n",
       "    7191,\n",
       "    7197,\n",
       "    7198,\n",
       "    7199,\n",
       "    7200,\n",
       "    7201,\n",
       "    7251,\n",
       "    7252,\n",
       "    7253,\n",
       "    7254,\n",
       "    7255,\n",
       "    7256,\n",
       "    7257,\n",
       "    7258,\n",
       "    7259,\n",
       "    7260,\n",
       "    7269,\n",
       "    7290,\n",
       "    7291,\n",
       "    7292,\n",
       "    7293,\n",
       "    7294,\n",
       "    7295,\n",
       "    7296,\n",
       "    7312,\n",
       "    7348,\n",
       "    7349,\n",
       "    7350,\n",
       "    7351,\n",
       "    7352,\n",
       "    7353,\n",
       "    7354,\n",
       "    7355,\n",
       "    7356]},\n",
       "  'in': {'ttl': 43,\n",
       "   'id': [15350,\n",
       "    15351,\n",
       "    15352,\n",
       "    15353,\n",
       "    15356,\n",
       "    15357,\n",
       "    15354,\n",
       "    15358,\n",
       "    15359,\n",
       "    15355,\n",
       "    15360,\n",
       "    15361,\n",
       "    15362,\n",
       "    15365,\n",
       "    15363,\n",
       "    15366,\n",
       "    15364,\n",
       "    15367,\n",
       "    15368,\n",
       "    15369,\n",
       "    15370,\n",
       "    15371,\n",
       "    15372,\n",
       "    15373,\n",
       "    15376,\n",
       "    15375,\n",
       "    15374,\n",
       "    15377,\n",
       "    15378,\n",
       "    15379,\n",
       "    15380,\n",
       "    15381,\n",
       "    15382,\n",
       "    15383,\n",
       "    15384,\n",
       "    15385,\n",
       "    15386,\n",
       "    15387,\n",
       "    15388,\n",
       "    15389,\n",
       "    15390,\n",
       "    15392,\n",
       "    15391,\n",
       "    15396,\n",
       "    15394,\n",
       "    15393,\n",
       "    15395,\n",
       "    15397,\n",
       "    15399,\n",
       "    15398]}},\n",
       " 'debug': {'tcp_retrans': 11, 'invalid': 11},\n",
       " 'expire_type': 'i'}"
      ]
     },
     "execution_count": 3,
     "metadata": {},
     "output_type": "execute_result"
    }
   ],
   "source": [
    "#view data from a single flow\n",
    "net_data[0]"
   ]
  },
  {
   "cell_type": "markdown",
   "metadata": {},
   "source": [
    "# Build Model\n",
    "\n",
    "We will showcase a simple model that will handle:\n",
    "\n",
    "- bytes_out, bytes_in, num_pkts_out, num_pkts_in, time_end-time_start in the first level;\n",
    "- packets as a nested list of dictionaries\n",
    "- ip with nested out and in, with ttl as a number and id as list"
   ]
  },
  {
   "cell_type": "code",
   "execution_count": 35,
   "metadata": {},
   "outputs": [
    {
     "name": "stdout",
     "output_type": "stream",
     "text": [
      "The autoreload extension is already loaded. To reload it, use:\n",
      "  %reload_ext autoreload\n"
     ]
    }
   ],
   "source": [
    "from keras import Model\n",
    "from keras import layers as L\n",
    "import numpy as np\n",
    "\n",
    "#add two parent levels to path\n",
    "import os,sys,inspect\n",
    "currentdir = os.path.dirname(os.path.abspath(inspect.getfile(inspect.currentframe())))\n",
    "parentdir = os.path.dirname(os.path.dirname(currentdir))\n",
    "sys.path.insert(0,parentdir) \n",
    "\n",
    "%load_ext autoreload\n",
    "%autoreload 2\n",
    "\n",
    "import IntelligentElement as IE"
   ]
  },
  {
   "cell_type": "markdown",
   "metadata": {},
   "source": [
    "## IP\n",
    "\n",
    "We handle 'in' and 'out separately'."
   ]
  },
  {
   "cell_type": "code",
   "execution_count": 36,
   "metadata": {},
   "outputs": [
    {
     "name": "stdout",
     "output_type": "stream",
     "text": [
      "Original model\n",
      "_________________________________________________________________\n",
      "Layer (type)                 Output Shape              Param #   \n",
      "=================================================================\n",
      "input_6 (InputLayer)         (None, 1)                 0         \n",
      "_________________________________________________________________\n",
      "embedding_2 (Embedding)      (None, 1, 8)              2048      \n",
      "_________________________________________________________________\n",
      "flatten_2 (Flatten)          (None, 8)                 0         \n",
      "=================================================================\n",
      "Total params: 2,048\n",
      "Trainable params: 2,048\n",
      "Non-trainable params: 0\n",
      "_________________________________________________________________\n",
      "\n",
      "\n",
      "Retrieved model\n",
      "_________________________________________________________________\n",
      "Layer (type)                 Output Shape              Param #   \n",
      "=================================================================\n",
      "inp_ip_out_ie (InputLayer)   (None, 1)                 0         \n",
      "_________________________________________________________________\n",
      "m_ip_out_ie (Model)          (None, 8)                 2048      \n",
      "=================================================================\n",
      "Total params: 2,048\n",
      "Trainable params: 2,048\n",
      "Non-trainable params: 0\n",
      "_________________________________________________________________\n"
     ]
    }
   ],
   "source": [
    "def get_ip_out_info(x):\n",
    "    ip_out_data = x.get('ip', {'out': {'ttl': 0,'id': []}, 'in': {'ttl': 0,'id': []}})\n",
    "    \n",
    "    return np.array([ip_out_data['out']['ttl']]).astype(int)\n",
    "\n",
    "ip_out_data = [get_ip_out_info(x) for x in net_data]\n",
    "ip_out_shape = (1,)\n",
    "\n",
    "inp=L.Input(ip_out_shape)\n",
    "x  =L.Embedding(256, 8)(inp)\n",
    "x  =L.Flatten()(x)\n",
    "ip_out_model = Model(inputs=inp, outputs=x)\n",
    "\n",
    "print('Original model')\n",
    "ip_out_model.summary()\n",
    "\n",
    "ip_out_ie = IE.IntelligentElement(ip_out_data, ip_out_model, ip_out_shape, name='ip_out_ie')\n",
    "\n",
    "m, ii, oo = ip_out_ie.retrieve_model_inputs_outputs()\n",
    "print('\\n\\nRetrieved model')\n",
    "m.summary()"
   ]
  },
  {
   "cell_type": "code",
   "execution_count": 37,
   "metadata": {},
   "outputs": [
    {
     "name": "stdout",
     "output_type": "stream",
     "text": [
      "Original model\n",
      "_________________________________________________________________\n",
      "Layer (type)                 Output Shape              Param #   \n",
      "=================================================================\n",
      "input_6 (InputLayer)         (None, 1)                 0         \n",
      "_________________________________________________________________\n",
      "embedding_2 (Embedding)      (None, 1, 8)              2048      \n",
      "_________________________________________________________________\n",
      "flatten_2 (Flatten)          (None, 8)                 0         \n",
      "=================================================================\n",
      "Total params: 2,048\n",
      "Trainable params: 2,048\n",
      "Non-trainable params: 0\n",
      "_________________________________________________________________\n",
      "\n",
      "\n",
      "Retrieved model\n",
      "_________________________________________________________________\n",
      "Layer (type)                 Output Shape              Param #   \n",
      "=================================================================\n",
      "inp_ip_in_ie (InputLayer)    (None, 1)                 0         \n",
      "_________________________________________________________________\n",
      "m_ip_in_ie (Model)           (None, 8)                 2048      \n",
      "=================================================================\n",
      "Total params: 2,048\n",
      "Trainable params: 2,048\n",
      "Non-trainable params: 0\n",
      "_________________________________________________________________\n"
     ]
    }
   ],
   "source": [
    "def get_ip_in_info(x):\n",
    "    ip_in_data = x.get('ip', {'out': {'ttl': 0,'id': []}, 'in': {'ttl': 0,'id': []}})\n",
    "    if not 'in' in ip_in_data:\n",
    "        ip_in_data['in'] = {'ttl': 0,'id': []}\n",
    "        \n",
    "    return np.array([ip_in_data['in']['ttl']]).astype(int)\n",
    "\n",
    "ip_in_data = [get_ip_in_info(x) for x in net_data]\n",
    "\n",
    "#share model with ip_out\n",
    "print('Original model')\n",
    "ip_out_model.summary()\n",
    "\n",
    "ip_in_ie = IE.IntelligentElement(ip_in_data, ip_out_model, ip_out_shape, name='ip_in_ie')\n",
    "\n",
    "m, ii, oo = ip_in_ie.retrieve_model_inputs_outputs()\n",
    "print('\\n\\nRetrieved model')\n",
    "m.summary()"
   ]
  },
  {
   "cell_type": "code",
   "execution_count": 38,
   "metadata": {},
   "outputs": [
    {
     "name": "stdout",
     "output_type": "stream",
     "text": [
      "Original model\n",
      "_________________________________________________________________\n",
      "Layer (type)                 Output Shape              Param #   \n",
      "=================================================================\n",
      "input_7 (InputLayer)         (None, None, 1)           0         \n",
      "_________________________________________________________________\n",
      "cu_dnnlstm_4 (CuDNNLSTM)     (None, 8)                 352       \n",
      "=================================================================\n",
      "Total params: 352\n",
      "Trainable params: 352\n",
      "Non-trainable params: 0\n",
      "_________________________________________________________________\n",
      "\n",
      "\n",
      "Retrieved model\n",
      "_________________________________________________________________\n",
      "Layer (type)                 Output Shape              Param #   \n",
      "=================================================================\n",
      "inp_ip_id_out_ie (InputLayer (None, None, 1)           0         \n",
      "_________________________________________________________________\n",
      "m_ip_id_out_ie (Model)       (None, 8)                 352       \n",
      "=================================================================\n",
      "Total params: 352\n",
      "Trainable params: 352\n",
      "Non-trainable params: 0\n",
      "_________________________________________________________________\n"
     ]
    }
   ],
   "source": [
    "def get_ip_id_out_info(x):\n",
    "    ip_id_out_data = x.get('ip', {'out': {'ttl': 0,'id': []}, 'in': {'ttl': 0,'id': []}})\n",
    "    \n",
    "    ans = [[x] for x in ip_id_out_data['out']['id']]\n",
    "    if len(ans)==0:\n",
    "        ans=[[0]]\n",
    "    return np.array(ans).astype(int)\n",
    "\n",
    "ip_id_out_data = [get_ip_id_out_info(x) for x in net_data]\n",
    "\n",
    "ip_id_out_shape = (None, 1)\n",
    "\n",
    "inp=L.Input(ip_id_out_shape)\n",
    "x  =L.CuDNNLSTM(8)(inp)\n",
    "ip_id_out_model = Model(inputs=inp, outputs=x)\n",
    "\n",
    "print('Original model')\n",
    "ip_id_out_model.summary()\n",
    "\n",
    "ip_id_out_ie = IE.IntelligentElement(ip_id_out_data, ip_id_out_model, ip_id_out_shape, name='ip_id_out_ie')\n",
    "\n",
    "m, ii, oo = ip_id_out_ie.retrieve_model_inputs_outputs()\n",
    "print('\\n\\nRetrieved model')\n",
    "m.summary()"
   ]
  },
  {
   "cell_type": "code",
   "execution_count": 39,
   "metadata": {},
   "outputs": [
    {
     "data": {
      "text/plain": [
       "(4, 50, 1)"
      ]
     },
     "execution_count": 39,
     "metadata": {},
     "output_type": "execute_result"
    }
   ],
   "source": [
    "ip_id_out_ie.get_batch([0,1,2,3])[0].shape"
   ]
  },
  {
   "cell_type": "code",
   "execution_count": 41,
   "metadata": {},
   "outputs": [
    {
     "name": "stdout",
     "output_type": "stream",
     "text": [
      "Original model\n",
      "_________________________________________________________________\n",
      "Layer (type)                 Output Shape              Param #   \n",
      "=================================================================\n",
      "input_7 (InputLayer)         (None, None, 1)           0         \n",
      "_________________________________________________________________\n",
      "cu_dnnlstm_4 (CuDNNLSTM)     (None, 8)                 352       \n",
      "=================================================================\n",
      "Total params: 352\n",
      "Trainable params: 352\n",
      "Non-trainable params: 0\n",
      "_________________________________________________________________\n",
      "\n",
      "\n",
      "Retrieved model\n",
      "_________________________________________________________________\n",
      "Layer (type)                 Output Shape              Param #   \n",
      "=================================================================\n",
      "inp_ip_id_in_ie (InputLayer) (None, None, 1)           0         \n",
      "_________________________________________________________________\n",
      "m_ip_id_in_ie (Model)        (None, 8)                 352       \n",
      "=================================================================\n",
      "Total params: 352\n",
      "Trainable params: 352\n",
      "Non-trainable params: 0\n",
      "_________________________________________________________________\n"
     ]
    }
   ],
   "source": [
    "def get_ip_id_in_info(x):\n",
    "    ip_id_in_data = x.get('ip', {'out': {'ttl': 0,'id': []}, 'in': {'ttl': 0,'id': []}})\n",
    "    if not 'in' in ip_id_in_data:\n",
    "        ip_id_in_data['in'] = {'ttl': 0,'id': []}\n",
    "    \n",
    "    ans = [[x] for x in ip_id_in_data['in']['id']]\n",
    "    if len(ans)==0:\n",
    "        ans=[[0]]\n",
    "    return np.array(ans).astype(int)\n",
    "\n",
    "ip_id_in_data = [get_ip_id_in_info(x) for x in net_data]\n",
    "\n",
    "#share model\n",
    "print('Original model')\n",
    "ip_id_out_model.summary()\n",
    "\n",
    "ip_id_in_ie = IE.IntelligentElement(ip_id_in_data, ip_id_out_model, ip_id_out_shape, name='ip_id_in_ie')\n",
    "\n",
    "m, ii, oo = ip_id_in_ie.retrieve_model_inputs_outputs()\n",
    "print('\\n\\nRetrieved model')\n",
    "m.summary()"
   ]
  },
  {
   "cell_type": "code",
   "execution_count": null,
   "metadata": {},
   "outputs": [],
   "source": []
  },
  {
   "cell_type": "markdown",
   "metadata": {},
   "source": [
    "## Packets Data"
   ]
  },
  {
   "cell_type": "code",
   "execution_count": null,
   "metadata": {},
   "outputs": [],
   "source": []
  },
  {
   "cell_type": "code",
   "execution_count": 55,
   "metadata": {},
   "outputs": [
    {
     "name": "stdout",
     "output_type": "stream",
     "text": [
      "Original model\n",
      "_________________________________________________________________\n",
      "Layer (type)                 Output Shape              Param #   \n",
      "=================================================================\n",
      "input_10 (InputLayer)        (None, None, 3)           0         \n",
      "_________________________________________________________________\n",
      "cu_dnnlstm_6 (CuDNNLSTM)     (None, 16)                1344      \n",
      "=================================================================\n",
      "Total params: 1,344\n",
      "Trainable params: 1,344\n",
      "Non-trainable params: 0\n",
      "_________________________________________________________________\n",
      "\n",
      "\n",
      "Retrieved model\n",
      "_________________________________________________________________\n",
      "Layer (type)                 Output Shape              Param #   \n",
      "=================================================================\n",
      "inp_pkt_ie (InputLayer)      (None, None, 3)           0         \n",
      "_________________________________________________________________\n",
      "m_pkt_ie (Model)             (None, 16)                1344      \n",
      "=================================================================\n",
      "Total params: 1,344\n",
      "Trainable params: 1,344\n",
      "Non-trainable params: 0\n",
      "_________________________________________________________________\n"
     ]
    }
   ],
   "source": [
    "def get_pkt_info(x):\n",
    "    pkt_data = x.get('packets', [{'b': 0, 'dir': '>', 'ipt': 0}])\n",
    "    \n",
    "    ans = [[y['b'], int(y['dir']=='>'), y['ipt']] for y in pkt_data]\n",
    "    if len(ans) == 0:\n",
    "        ans = [[0,0,0]]\n",
    "    \n",
    "    return np.array(ans)\n",
    "\n",
    "pkt_data  = [get_pkt_info(x) for x in net_data]\n",
    "pkt_shape = (None, 3)\n",
    "\n",
    "inp=L.Input(pkt_shape)\n",
    "x  =L.CuDNNLSTM(16)(inp)\n",
    "pkt_model = Model(inputs=inp, outputs=x)\n",
    "\n",
    "print('Original model')\n",
    "pkt_model.summary()\n",
    "\n",
    "pkt_ie = IE.IntelligentElement(pkt_data, pkt_model, pkt_shape, name='pkt_ie')\n",
    "\n",
    "m, ii, oo = pkt_ie.retrieve_model_inputs_outputs()\n",
    "print('\\n\\nRetrieved model')\n",
    "m.summary()"
   ]
  },
  {
   "cell_type": "code",
   "execution_count": 56,
   "metadata": {},
   "outputs": [
    {
     "data": {
      "text/plain": [
       "(4, 100, 3)"
      ]
     },
     "execution_count": 56,
     "metadata": {},
     "output_type": "execute_result"
    }
   ],
   "source": [
    "pkt_ie.get_batch([0,1,2,3])[0].shape"
   ]
  },
  {
   "cell_type": "code",
   "execution_count": 57,
   "metadata": {},
   "outputs": [
    {
     "data": {
      "text/plain": [
       "1"
      ]
     },
     "execution_count": 57,
     "metadata": {},
     "output_type": "execute_result"
    }
   ],
   "source": [
    "len(net_data[3]['packets'])"
   ]
  },
  {
   "cell_type": "code",
   "execution_count": 58,
   "metadata": {},
   "outputs": [
    {
     "name": "stdout",
     "output_type": "stream",
     "text": [
      "[[ 441    1    0]\n",
      " [1460    0  257]\n",
      " [1460    0    0]\n",
      " [1460    0    0]\n",
      " [1460    0    0]]\n"
     ]
    },
    {
     "data": {
      "text/plain": [
       "array([[4.41e+02, 1.00e+00, 0.00e+00],\n",
       "       [1.46e+03, 0.00e+00, 2.57e+02],\n",
       "       [1.46e+03, 0.00e+00, 0.00e+00],\n",
       "       [1.46e+03, 0.00e+00, 0.00e+00],\n",
       "       [1.46e+03, 0.00e+00, 0.00e+00]])"
      ]
     },
     "execution_count": 58,
     "metadata": {},
     "output_type": "execute_result"
    }
   ],
   "source": [
    "print(pkt_data[0][0:5])\n",
    "pkt_ie.get_batch([0,1,2,3])[0][0][0:5]"
   ]
  },
  {
   "cell_type": "code",
   "execution_count": null,
   "metadata": {},
   "outputs": [],
   "source": []
  },
  {
   "cell_type": "code",
   "execution_count": null,
   "metadata": {},
   "outputs": [],
   "source": []
  },
  {
   "cell_type": "markdown",
   "metadata": {},
   "source": [
    "## Root Data"
   ]
  },
  {
   "cell_type": "code",
   "execution_count": 59,
   "metadata": {},
   "outputs": [
    {
     "name": "stdout",
     "output_type": "stream",
     "text": [
      "Original model\n",
      "_________________________________________________________________\n",
      "Layer (type)                 Output Shape              Param #   \n",
      "=================================================================\n",
      "input_11 (InputLayer)        (None, 53)                0         \n",
      "_________________________________________________________________\n",
      "dense_9 (Dense)              (None, 10)                540       \n",
      "_________________________________________________________________\n",
      "dense_10 (Dense)             (None, 10)                110       \n",
      "_________________________________________________________________\n",
      "dense_11 (Dense)             (None, 10)                110       \n",
      "_________________________________________________________________\n",
      "dense_12 (Dense)             (None, 3)                 33        \n",
      "=================================================================\n",
      "Total params: 793\n",
      "Trainable params: 793\n",
      "Non-trainable params: 0\n",
      "_________________________________________________________________\n",
      "\n",
      "\n",
      "Retrieved model\n",
      "__________________________________________________________________________________________________\n",
      "Layer (type)                    Output Shape         Param #     Connected to                     \n",
      "==================================================================================================\n",
      "inp_pkt_ie (InputLayer)         (None, None, 3)      0                                            \n",
      "__________________________________________________________________________________________________\n",
      "inp_ip_out_ie (InputLayer)      (None, 1)            0                                            \n",
      "__________________________________________________________________________________________________\n",
      "inp_ip_id_out_ie (InputLayer)   (None, None, 1)      0                                            \n",
      "__________________________________________________________________________________________________\n",
      "inp_ip_in_ie (InputLayer)       (None, 1)            0                                            \n",
      "__________________________________________________________________________________________________\n",
      "inp_ip_id_in_ie (InputLayer)    (None, None, 1)      0                                            \n",
      "__________________________________________________________________________________________________\n",
      "m_pkt_ie (Model)                (None, 16)           1344        inp_pkt_ie[0][0]                 \n",
      "__________________________________________________________________________________________________\n",
      "m_ip_in_ie (Model)              (None, 8)            2048        inp_ip_out_ie[0][0]              \n",
      "                                                                 inp_ip_in_ie[0][0]               \n",
      "__________________________________________________________________________________________________\n",
      "m_ip_id_in_ie (Model)           (None, 8)            352         inp_ip_id_out_ie[0][0]           \n",
      "                                                                 inp_ip_id_in_ie[0][0]            \n",
      "__________________________________________________________________________________________________\n",
      "inp_root_ie (InputLayer)        (None, 5)            0                                            \n",
      "__________________________________________________________________________________________________\n",
      "concatenate_5 (Concatenate)     (None, 53)           0           m_pkt_ie[2][0]                   \n",
      "                                                                 m_ip_in_ie[7][0]                 \n",
      "                                                                 m_ip_id_in_ie[7][0]              \n",
      "                                                                 m_ip_in_ie[8][0]                 \n",
      "                                                                 m_ip_id_in_ie[8][0]              \n",
      "                                                                 inp_root_ie[0][0]                \n",
      "__________________________________________________________________________________________________\n",
      "m_root_ie (Model)               (None, 3)            793         concatenate_5[0][0]              \n",
      "==================================================================================================\n",
      "Total params: 4,537\n",
      "Trainable params: 4,537\n",
      "Non-trainable params: 0\n",
      "__________________________________________________________________________________________________\n"
     ]
    }
   ],
   "source": [
    "def get_root_info(x):\n",
    "    return np.array([x.get('bytes_in', 0), x.get('bytes_out', 0), x.get('num_pkts_in', 0), x.get('num_pkts_out', 0), \n",
    "            x['time_end']-x['time_start']])\n",
    "root_data = [get_root_info(x) for x in net_data]\n",
    "root_shape = (5,)\n",
    "\n",
    "children = [pkt_ie, ip_out_ie, ip_id_out_ie, ip_in_ie, ip_id_in_ie]\n",
    "inp=L.Input( (root_shape[-1]+IE.get_children_sum_last_output_shapes(children),) )\n",
    "x=inp\n",
    "for kk in range(3):\n",
    "    x=L.Dense(10, activation='relu')(x)\n",
    "x=L.Dense(3,activation='softmax')(x)\n",
    "root_model = Model(inputs=inp, outputs=x)\n",
    "\n",
    "print('Original model')\n",
    "root_model.summary()\n",
    "\n",
    "root_ie = IE.IntelligentElement(root_data, root_model, root_shape, children_ie=children, name='root_ie')\n",
    "\n",
    "m, ii, oo = root_ie.retrieve_model_inputs_outputs()\n",
    "print('\\n\\nRetrieved model')\n",
    "m.summary()"
   ]
  },
  {
   "cell_type": "code",
   "execution_count": 60,
   "metadata": {},
   "outputs": [
    {
     "data": {
      "text/plain": [
       "[array([1.82540000e+05, 8.65000000e+02, 1.26000000e+02, 5.50000000e+01,\n",
       "        2.12327099e+00]),\n",
       " array([2.43000000e+02, 5.27710000e+04, 3.00000000e+01, 4.40000000e+01,\n",
       "        1.07976089e+01]),\n",
       " array([1.19380000e+04, 8.62763700e+06, 3.56800000e+03, 5.94200000e+03,\n",
       "        1.66916592e+01]),\n",
       " array([ 0., 19.,  0.,  1.,  0.]),\n",
       " array([ 0., 19.,  0.,  1.,  0.])]"
      ]
     },
     "execution_count": 60,
     "metadata": {},
     "output_type": "execute_result"
    }
   ],
   "source": [
    "root_data[0:5]"
   ]
  },
  {
   "cell_type": "code",
   "execution_count": 61,
   "metadata": {},
   "outputs": [
    {
     "data": {
      "text/plain": [
       "(3, 1)"
      ]
     },
     "execution_count": 61,
     "metadata": {},
     "output_type": "execute_result"
    }
   ],
   "source": [
    "root_ie.get_batch([0,1,2])[3].shape"
   ]
  },
  {
   "cell_type": "markdown",
   "metadata": {},
   "source": [
    "# Build Generator"
   ]
  },
  {
   "cell_type": "code",
   "execution_count": 74,
   "metadata": {},
   "outputs": [],
   "source": [
    "from keras.utils import Sequence\n",
    "\n",
    "class IEDataGenerator(Sequence):\n",
    "    'Generates data for Keras'\n",
    "    def __init__(self, ie, labels, batch_size=128, shuffle=True):\n",
    "        \n",
    "        'Initialization'\n",
    "        self.ie = ie\n",
    "        \n",
    "        self.batch_size = batch_size\n",
    "        self.labels = labels\n",
    "        self.nsamples = len(ie.data)\n",
    "        assert self.nsamples == len(labels), 'Length of labels must match length of data'\n",
    "        \n",
    "        self.shuffle = shuffle\n",
    "        self.on_epoch_end()\n",
    "\n",
    "    def __len__(self):\n",
    "        'Denotes the number of batches per epoch'\n",
    "        return int(np.floor(self.nsamples / self.batch_size))\n",
    "\n",
    "    def __getitem__(self, index):\n",
    "        'Generate one batch of data'\n",
    "        # Generate indexes of the batch\n",
    "        indexes = self.indexes[index*self.batch_size:(index+1)*self.batch_size]\n",
    "\n",
    "        # Generate data\n",
    "        X, y = self.__data_generation(indexes)\n",
    "\n",
    "        return X, y\n",
    "\n",
    "    def on_epoch_end(self):\n",
    "        'Updates indexes after each epoch'\n",
    "        self.indexes = np.arange(self.nsamples)\n",
    "        if self.shuffle == True:\n",
    "            np.random.shuffle(self.indexes)\n",
    "\n",
    "    def __data_generation(self, list_IDs_temp):\n",
    "        'Generates data containing batch_size samples' # X : (n_samples, *dim, n_channels)\n",
    "        # Initialization\n",
    "        y = np.empty((self.batch_size), dtype=int)\n",
    "\n",
    "        #store samples\n",
    "        X = self.ie.get_batch(list_IDs_temp)\n",
    "        \n",
    "        # Generate data\n",
    "        for i, ID in enumerate(list_IDs_temp):\n",
    "\n",
    "            # Store class\n",
    "            y[i] = self.labels[ID]\n",
    "\n",
    "        return X, y"
   ]
  },
  {
   "cell_type": "code",
   "execution_count": 75,
   "metadata": {},
   "outputs": [],
   "source": [
    "ie_datagen = IEDataGenerator(root_ie, np.expand_dims(labels,axis=1))"
   ]
  },
  {
   "cell_type": "code",
   "execution_count": 76,
   "metadata": {},
   "outputs": [],
   "source": [
    "xx,yy = ie_datagen.__getitem__(0)"
   ]
  },
  {
   "cell_type": "code",
   "execution_count": 77,
   "metadata": {},
   "outputs": [
    {
     "name": "stdout",
     "output_type": "stream",
     "text": [
      "__________________________________________________________________________________________________\n",
      "Layer (type)                    Output Shape         Param #     Connected to                     \n",
      "==================================================================================================\n",
      "inp_pkt_ie (InputLayer)         (None, None, 3)      0                                            \n",
      "__________________________________________________________________________________________________\n",
      "inp_ip_out_ie (InputLayer)      (None, 1)            0                                            \n",
      "__________________________________________________________________________________________________\n",
      "inp_ip_id_out_ie (InputLayer)   (None, None, 1)      0                                            \n",
      "__________________________________________________________________________________________________\n",
      "inp_ip_in_ie (InputLayer)       (None, 1)            0                                            \n",
      "__________________________________________________________________________________________________\n",
      "inp_ip_id_in_ie (InputLayer)    (None, None, 1)      0                                            \n",
      "__________________________________________________________________________________________________\n",
      "m_pkt_ie (Model)                (None, 16)           1344        inp_pkt_ie[0][0]                 \n",
      "__________________________________________________________________________________________________\n",
      "m_ip_in_ie (Model)              (None, 8)            2048        inp_ip_out_ie[0][0]              \n",
      "                                                                 inp_ip_in_ie[0][0]               \n",
      "__________________________________________________________________________________________________\n",
      "m_ip_id_in_ie (Model)           (None, 8)            352         inp_ip_id_out_ie[0][0]           \n",
      "                                                                 inp_ip_id_in_ie[0][0]            \n",
      "__________________________________________________________________________________________________\n",
      "inp_root_ie (InputLayer)        (None, 5)            0                                            \n",
      "__________________________________________________________________________________________________\n",
      "concatenate_8 (Concatenate)     (None, 53)           0           m_pkt_ie[5][0]                   \n",
      "                                                                 m_ip_in_ie[13][0]                \n",
      "                                                                 m_ip_id_in_ie[13][0]             \n",
      "                                                                 m_ip_in_ie[14][0]                \n",
      "                                                                 m_ip_id_in_ie[14][0]             \n",
      "                                                                 inp_root_ie[0][0]                \n",
      "__________________________________________________________________________________________________\n",
      "m_root_ie (Model)               (None, 3)            793         concatenate_8[0][0]              \n",
      "==================================================================================================\n",
      "Total params: 4,537\n",
      "Trainable params: 4,537\n",
      "Non-trainable params: 0\n",
      "__________________________________________________________________________________________________\n"
     ]
    }
   ],
   "source": [
    "root_model, ii, oo = root_ie.retrieve_model_inputs_outputs()\n",
    "root_model.summary()"
   ]
  },
  {
   "cell_type": "code",
   "execution_count": 82,
   "metadata": {},
   "outputs": [],
   "source": [
    "root_model.compile(optimizer='adam', loss='sparse_categorical_crossentropy', metrics=['sparse_categorical_accuracy'])"
   ]
  },
  {
   "cell_type": "code",
   "execution_count": 85,
   "metadata": {},
   "outputs": [
    {
     "name": "stdout",
     "output_type": "stream",
     "text": [
      "Epoch 1/10\n",
      "545/545 [==============================] - 7s 12ms/step - loss: 0.9469 - sparse_categorical_accuracy: 0.5986\n",
      "Epoch 2/10\n",
      "545/545 [==============================] - 7s 12ms/step - loss: 0.9469 - sparse_categorical_accuracy: 0.5987\n",
      "Epoch 3/10\n",
      "545/545 [==============================] - 7s 12ms/step - loss: 0.9470 - sparse_categorical_accuracy: 0.5987\n",
      "Epoch 4/10\n",
      "545/545 [==============================] - 7s 12ms/step - loss: 0.9469 - sparse_categorical_accuracy: 0.5987\n",
      "Epoch 5/10\n",
      "545/545 [==============================] - 7s 12ms/step - loss: 0.9469 - sparse_categorical_accuracy: 0.5986\n",
      "Epoch 6/10\n",
      "545/545 [==============================] - 7s 13ms/step - loss: 0.9469 - sparse_categorical_accuracy: 0.5987\n",
      "Epoch 7/10\n",
      "545/545 [==============================] - 7s 12ms/step - loss: 0.9469 - sparse_categorical_accuracy: 0.5987\n",
      "Epoch 8/10\n",
      "545/545 [==============================] - 7s 13ms/step - loss: 0.9469 - sparse_categorical_accuracy: 0.5986\n",
      "Epoch 9/10\n",
      "545/545 [==============================] - 7s 13ms/step - loss: 0.9469 - sparse_categorical_accuracy: 0.5987\n",
      "Epoch 10/10\n",
      "545/545 [==============================] - 7s 13ms/step - loss: 0.9467 - sparse_categorical_accuracy: 0.5988\n"
     ]
    },
    {
     "data": {
      "text/plain": [
       "<keras.callbacks.History at 0x219bb858e48>"
      ]
     },
     "execution_count": 85,
     "metadata": {},
     "output_type": "execute_result"
    }
   ],
   "source": [
    "from keras.callbacks import ReduceLROnPlateau\n",
    "reduce_lr = ReduceLROnPlateau(monitor='sparse_categorical_accuracy', factor=0.2,\n",
    "                              patience=5, min_lr=1e-5, verbose=1)\n",
    "\n",
    "result = root_model.fit_generator(ie_datagen, epochs=10, callbacks=[reduce_lr])"
   ]
  },
  {
   "cell_type": "code",
   "execution_count": null,
   "metadata": {},
   "outputs": [],
   "source": []
  }
 ],
 "metadata": {
  "kernelspec": {
   "display_name": "Python 3",
   "language": "python",
   "name": "python3"
  },
  "language_info": {
   "codemirror_mode": {
    "name": "ipython",
    "version": 3
   },
   "file_extension": ".py",
   "mimetype": "text/x-python",
   "name": "python",
   "nbconvert_exporter": "python",
   "pygments_lexer": "ipython3",
   "version": "3.6.7"
  }
 },
 "nbformat": 4,
 "nbformat_minor": 2
}
