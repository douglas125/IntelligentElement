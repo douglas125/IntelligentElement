{
 "cells": [
  {
   "cell_type": "markdown",
   "metadata": {},
   "source": [
    "# Intelligent Element Design\n",
    "\n",
    "The idea of the intelligent element is to automate the creation of Keras models and data generation for complex nested structures."
   ]
  },
  {
   "cell_type": "code",
   "execution_count": 1,
   "metadata": {},
   "outputs": [
    {
     "name": "stderr",
     "output_type": "stream",
     "text": [
      "Using TensorFlow backend.\n"
     ]
    }
   ],
   "source": [
    "from keras import Model\n",
    "import keras.layers as L\n",
    "\n",
    "def identity_fcn(x):\n",
    "    return x\n",
    "\n",
    "class IntelligentElement:\n",
    "    '''\n",
    "    Implements IntelligentElement, a base class that can be used to automate Keras model creation\n",
    "    for complex nested structures\n",
    "    '''\n",
    "    \n",
    "    def __init__(self, data, model, input_shape, preprocess_function = None, children_ie = None, name=None):\n",
    "        '''\n",
    "        Initializes the IntelligentElement instance with its data, which must be a list.\n",
    "        \n",
    "        All data passed to children IntelligentElements should be a list with the same number of elements\n",
    "        and matching information. If a dynamic axis is found (input_shape[k] = None for some k), the vectors are \n",
    "        padded with zeroes until they get to the max length\n",
    "        \n",
    "        data        - list of samples that will be handled by this IE. If there is no model, it can contain empty elements\n",
    "        children_ie - IEs that handle nested structures\n",
    "        \n",
    "        preprocess_function - function that is applied to each element of data list in order \n",
    "                              to retrieve neural network ready data as numpy arrays\n",
    "        \n",
    "        model - None if there is no data associated, otherwise a Keras Model\n",
    "        '''\n",
    "        \n",
    "        assert isinstance(data, list), 'data should be a list of samples to be handled by this IntelligentElement'\n",
    "        \n",
    "        if model is not None:\n",
    "            assert isinstance(model, Model), 'model should be a Keras model'\n",
    "            assert len(model.output_shape) == 2, 'model output shape should have length 2'\n",
    "\n",
    "        if children_ie is not None:\n",
    "            for c in children_ie:\n",
    "                assert isinstance(c, IntelligentElement), 'children_ie must contain only IntelligentElement'\n",
    "                assert len(c.data) == len(data), 'length of data vector must be the same for parents and children'\n",
    "        \n",
    "        if preprocess_function is None:\n",
    "            self.preprocess_function = identity_fcn\n",
    "        else:\n",
    "            self.preprocess_function = preprocess_function\n",
    "            \n",
    "        self.name=name\n",
    "        self.data = data\n",
    "        self.input_shape = input_shape\n",
    "        self.children_ie = children_ie\n",
    "        self.model = model\n",
    "        \n",
    "        if model is not None:\n",
    "            self.model.name = 'm_{}'.format(name)\n",
    "\n",
    "    def retrieve_model_inputs_outputs(self):\n",
    "        if self.model is not None:\n",
    "            inp = L.Input(self.input_shape, name='inp_{}'.format(self.name))\n",
    "            inps = [inp]\n",
    "            outs = [self.model(inp)]\n",
    "        else:\n",
    "            inps=[]\n",
    "            outs=[]\n",
    "        \n",
    "        if self.children_ie is not None:\n",
    "            for c in self.children_ie:\n",
    "                cmodel, cinp, cout = c.retrieve_model_inputs_outputs()\n",
    "                inps += cinp\n",
    "                outs.append(cout)\n",
    "                \n",
    "        if len(outs) > 1:\n",
    "            o = L.Concatenate()(outs)\n",
    "        else:\n",
    "            o = outs[0]\n",
    "        \n",
    "        ret_model = Model(inputs = inps, outputs = o, name = self.name)\n",
    "        \n",
    "        return ret_model, inps, o\n",
    "    \n",
    "    def get_batch(self, indices):\n",
    "        '''\n",
    "        Retrieves a batch of data as requested in indices\n",
    "        '''\n",
    "        \n",
    "        batch_data = [self.data[i] for i in indices]\n",
    "        \n",
    "        if self.model is not None:\n",
    "            cur_inps = [self.preprocess_function(x) for x in batch_data]\n",
    "            \n",
    "            #if there are no dynamic axes, we are done. if not, we need to pad\n",
    "            shapes = np.array([x.shape for x in cur_inps])\n",
    "            maxshape = np.max(shapes,axis=0)\n",
    "            padded_inp = np.zeros( (len(indices),*maxshape) )\n",
    "            #print('Padded shape: {}'.format(padded_inp.shape))\n",
    "            \n",
    "            cur_n=0\n",
    "            for vec in cur_inps:\n",
    "                ss = ( (cur_n,) )\n",
    "                for p in vec.shape:\n",
    "                    ss += (slice(0,p),)\n",
    "                padded_inp[ss] = vec\n",
    "                cur_n+=1\n",
    "            \n",
    "            inps = [padded_inp]\n",
    "        else:\n",
    "            inps = []\n",
    "            \n",
    "        if self.children_ie is not None:\n",
    "            for c in self.children_ie:\n",
    "                cinp = c.get_batch(indices)\n",
    "                inps += cinp\n",
    "            \n",
    "        return inps"
   ]
  },
  {
   "cell_type": "code",
   "execution_count": null,
   "metadata": {},
   "outputs": [],
   "source": []
  },
  {
   "cell_type": "code",
   "execution_count": null,
   "metadata": {},
   "outputs": [],
   "source": []
  },
  {
   "cell_type": "markdown",
   "metadata": {},
   "source": [
    "# Sample synthesized use"
   ]
  },
  {
   "cell_type": "code",
   "execution_count": null,
   "metadata": {},
   "outputs": [],
   "source": []
  },
  {
   "cell_type": "code",
   "execution_count": 2,
   "metadata": {},
   "outputs": [],
   "source": [
    "import numpy as np\n",
    "import pandas as pd\n",
    "regions_id = {'countryside' : 0, 'central' : 1, 'innerside' : 2}\n",
    "def genClientData():\n",
    "    regions = ['countryside', 'central', 'innerside']\n",
    "    \n",
    "    ans = {'income' : np.random.randint(10,50), 'age' : np.random.randint(20,70), \n",
    "           'residence_region' : regions[np.random.randint(len(regions))] }\n",
    "    \n",
    "    ans['last_transactions'] = []\n",
    "    nlast = np.random.randint(3,10)\n",
    "    for i in range(nlast):\n",
    "        ans['last_transactions'].append({'month' : i, 'value':np.random.randint(1,5)})\n",
    "    \n",
    "    ans['picture'] = np.ones((128,128,3))\n",
    "    \n",
    "    return ans\n",
    "\n",
    "clientdata = [genClientData() for i in range(20)]"
   ]
  },
  {
   "cell_type": "code",
   "execution_count": 3,
   "metadata": {},
   "outputs": [
    {
     "data": {
      "text/html": [
       "<div>\n",
       "<style scoped>\n",
       "    .dataframe tbody tr th:only-of-type {\n",
       "        vertical-align: middle;\n",
       "    }\n",
       "\n",
       "    .dataframe tbody tr th {\n",
       "        vertical-align: top;\n",
       "    }\n",
       "\n",
       "    .dataframe thead th {\n",
       "        text-align: right;\n",
       "    }\n",
       "</style>\n",
       "<table border=\"1\" class=\"dataframe\">\n",
       "  <thead>\n",
       "    <tr style=\"text-align: right;\">\n",
       "      <th></th>\n",
       "      <th>age</th>\n",
       "      <th>income</th>\n",
       "      <th>last_transactions</th>\n",
       "      <th>picture</th>\n",
       "      <th>residence_region</th>\n",
       "    </tr>\n",
       "  </thead>\n",
       "  <tbody>\n",
       "    <tr>\n",
       "      <th>0</th>\n",
       "      <td>49</td>\n",
       "      <td>29</td>\n",
       "      <td>[{'month': 0, 'value': 1}, {'month': 1, 'value...</td>\n",
       "      <td>[[[1.0, 1.0, 1.0], [1.0, 1.0, 1.0], [1.0, 1.0,...</td>\n",
       "      <td>countryside</td>\n",
       "    </tr>\n",
       "    <tr>\n",
       "      <th>1</th>\n",
       "      <td>55</td>\n",
       "      <td>11</td>\n",
       "      <td>[{'month': 0, 'value': 3}, {'month': 1, 'value...</td>\n",
       "      <td>[[[1.0, 1.0, 1.0], [1.0, 1.0, 1.0], [1.0, 1.0,...</td>\n",
       "      <td>innerside</td>\n",
       "    </tr>\n",
       "    <tr>\n",
       "      <th>2</th>\n",
       "      <td>30</td>\n",
       "      <td>29</td>\n",
       "      <td>[{'month': 0, 'value': 2}, {'month': 1, 'value...</td>\n",
       "      <td>[[[1.0, 1.0, 1.0], [1.0, 1.0, 1.0], [1.0, 1.0,...</td>\n",
       "      <td>countryside</td>\n",
       "    </tr>\n",
       "    <tr>\n",
       "      <th>3</th>\n",
       "      <td>21</td>\n",
       "      <td>38</td>\n",
       "      <td>[{'month': 0, 'value': 4}, {'month': 1, 'value...</td>\n",
       "      <td>[[[1.0, 1.0, 1.0], [1.0, 1.0, 1.0], [1.0, 1.0,...</td>\n",
       "      <td>countryside</td>\n",
       "    </tr>\n",
       "    <tr>\n",
       "      <th>4</th>\n",
       "      <td>29</td>\n",
       "      <td>28</td>\n",
       "      <td>[{'month': 0, 'value': 4}, {'month': 1, 'value...</td>\n",
       "      <td>[[[1.0, 1.0, 1.0], [1.0, 1.0, 1.0], [1.0, 1.0,...</td>\n",
       "      <td>countryside</td>\n",
       "    </tr>\n",
       "  </tbody>\n",
       "</table>\n",
       "</div>"
      ],
      "text/plain": [
       "   age  income                                  last_transactions  \\\n",
       "0   49      29  [{'month': 0, 'value': 1}, {'month': 1, 'value...   \n",
       "1   55      11  [{'month': 0, 'value': 3}, {'month': 1, 'value...   \n",
       "2   30      29  [{'month': 0, 'value': 2}, {'month': 1, 'value...   \n",
       "3   21      38  [{'month': 0, 'value': 4}, {'month': 1, 'value...   \n",
       "4   29      28  [{'month': 0, 'value': 4}, {'month': 1, 'value...   \n",
       "\n",
       "                                             picture residence_region  \n",
       "0  [[[1.0, 1.0, 1.0], [1.0, 1.0, 1.0], [1.0, 1.0,...      countryside  \n",
       "1  [[[1.0, 1.0, 1.0], [1.0, 1.0, 1.0], [1.0, 1.0,...        innerside  \n",
       "2  [[[1.0, 1.0, 1.0], [1.0, 1.0, 1.0], [1.0, 1.0,...      countryside  \n",
       "3  [[[1.0, 1.0, 1.0], [1.0, 1.0, 1.0], [1.0, 1.0,...      countryside  \n",
       "4  [[[1.0, 1.0, 1.0], [1.0, 1.0, 1.0], [1.0, 1.0,...      countryside  "
      ]
     },
     "execution_count": 3,
     "metadata": {},
     "output_type": "execute_result"
    }
   ],
   "source": [
    "pd.DataFrame(clientdata).head()"
   ]
  },
  {
   "cell_type": "code",
   "execution_count": null,
   "metadata": {},
   "outputs": [],
   "source": []
  },
  {
   "cell_type": "code",
   "execution_count": 4,
   "metadata": {},
   "outputs": [
    {
     "name": "stdout",
     "output_type": "stream",
     "text": [
      "Original model\n",
      "_________________________________________________________________\n",
      "Layer (type)                 Output Shape              Param #   \n",
      "=================================================================\n",
      "input_1 (InputLayer)         (None, 128, 128, 3)       0         \n",
      "_________________________________________________________________\n",
      "conv2d_1 (Conv2D)            (None, 128, 128, 10)      280       \n",
      "_________________________________________________________________\n",
      "flatten_1 (Flatten)          (None, 163840)            0         \n",
      "_________________________________________________________________\n",
      "dense_1 (Dense)              (None, 5)                 819205    \n",
      "=================================================================\n",
      "Total params: 819,485\n",
      "Trainable params: 819,485\n",
      "Non-trainable params: 0\n",
      "_________________________________________________________________\n",
      "\n",
      "\n",
      "Retrieved model\n",
      "_________________________________________________________________\n",
      "Layer (type)                 Output Shape              Param #   \n",
      "=================================================================\n",
      "inp_picture_ie (InputLayer)  (None, 128, 128, 3)       0         \n",
      "_________________________________________________________________\n",
      "m_picture_ie (Model)         (None, 5)                 819485    \n",
      "=================================================================\n",
      "Total params: 819,485\n",
      "Trainable params: 819,485\n",
      "Non-trainable params: 0\n",
      "_________________________________________________________________\n"
     ]
    }
   ],
   "source": [
    "picture_data = [x['picture'] for x in clientdata]\n",
    "picture_shape = (128,128,3)\n",
    "inp=L.Input(picture_shape)\n",
    "x=L.Conv2D(10,(3,3), activation='relu', padding='same')(inp)\n",
    "x=L.Flatten()(x)\n",
    "x=L.Dense(5,activation='relu')(x)\n",
    "picture_model = Model(inputs=inp, outputs=x)\n",
    "print('Original model')\n",
    "picture_model.summary()\n",
    "\n",
    "picture_ie = IntelligentElement(picture_data, picture_model, picture_shape, name='picture_ie')\n",
    "\n",
    "m, ii, oo = picture_ie.retrieve_model_inputs_outputs()\n",
    "print('\\n\\nRetrieved model')\n",
    "m.summary()"
   ]
  },
  {
   "cell_type": "code",
   "execution_count": 5,
   "metadata": {},
   "outputs": [
    {
     "data": {
      "text/plain": [
       "(5, 128, 128, 3)"
      ]
     },
     "execution_count": 5,
     "metadata": {},
     "output_type": "execute_result"
    }
   ],
   "source": [
    "picture_ie.get_batch([0,4,5,8,9])[0].shape"
   ]
  },
  {
   "cell_type": "code",
   "execution_count": null,
   "metadata": {},
   "outputs": [],
   "source": []
  },
  {
   "cell_type": "code",
   "execution_count": 6,
   "metadata": {},
   "outputs": [
    {
     "name": "stdout",
     "output_type": "stream",
     "text": [
      "Original model\n",
      "_________________________________________________________________\n",
      "Layer (type)                 Output Shape              Param #   \n",
      "=================================================================\n",
      "input_2 (InputLayer)         (None, None, 3)           0         \n",
      "_________________________________________________________________\n",
      "lstm_1 (LSTM)                (None, 64)                17408     \n",
      "_________________________________________________________________\n",
      "dense_2 (Dense)              (None, 16)                1040      \n",
      "_________________________________________________________________\n",
      "dense_3 (Dense)              (None, 8)                 136       \n",
      "=================================================================\n",
      "Total params: 18,584\n",
      "Trainable params: 18,584\n",
      "Non-trainable params: 0\n",
      "_________________________________________________________________\n",
      "\n",
      "\n",
      "Retrieved model\n",
      "_________________________________________________________________\n",
      "Layer (type)                 Output Shape              Param #   \n",
      "=================================================================\n",
      "inp_transaction_ie (InputLay (None, None, 3)           0         \n",
      "_________________________________________________________________\n",
      "m_transaction_ie (Model)     (None, 8)                 18584     \n",
      "=================================================================\n",
      "Total params: 18,584\n",
      "Trainable params: 18,584\n",
      "Non-trainable params: 0\n",
      "_________________________________________________________________\n"
     ]
    }
   ],
   "source": [
    "transaction_data = [x['last_transactions'] for x in clientdata]\n",
    "transaction_shape = (None, 3)\n",
    "\n",
    "def transaction_preproc_function(x):\n",
    "    #receives a dictionary with keys 'month' and 'value'\n",
    "    #append a 1 to indicate that these values were not padded\n",
    "    ans = []\n",
    "    for item in x:\n",
    "        ans.append([item['month']/12, item['value']/1000, 1])\n",
    "    \n",
    "    #handle case when list is empty\n",
    "    if len(ans) == 0:\n",
    "        ans.append([0,0,0])\n",
    "    \n",
    "    return np.array(ans)\n",
    "\n",
    "\n",
    "inp = L.Input(transaction_shape)\n",
    "x = L.LSTM(64)(inp)\n",
    "x = L.Dense(16, activation='relu')(x)\n",
    "x = L.Dense(8, activation='relu')(x)\n",
    "transaction_model = Model(inputs=inp, outputs=x)\n",
    "print('Original model')\n",
    "transaction_model.summary()\n",
    "\n",
    "transaction_ie = IntelligentElement(transaction_data, transaction_model, transaction_shape, \n",
    "                                    preprocess_function=transaction_preproc_function, name='transaction_ie')\n",
    "\n",
    "m, ii, oo = transaction_ie.retrieve_model_inputs_outputs()\n",
    "print('\\n\\nRetrieved model')\n",
    "m.summary()"
   ]
  },
  {
   "cell_type": "code",
   "execution_count": 7,
   "metadata": {},
   "outputs": [
    {
     "data": {
      "text/plain": [
       "array([[0.        , 0.002     , 1.        ],\n",
       "       [0.08333333, 0.001     , 1.        ],\n",
       "       [0.16666667, 0.001     , 1.        ]])"
      ]
     },
     "execution_count": 7,
     "metadata": {},
     "output_type": "execute_result"
    }
   ],
   "source": [
    "transaction_ie.preprocess_function(transaction_ie.data[2])"
   ]
  },
  {
   "cell_type": "code",
   "execution_count": 8,
   "metadata": {},
   "outputs": [
    {
     "data": {
      "text/plain": [
       "array([[0.        , 0.002     , 1.        ],\n",
       "       [0.08333333, 0.001     , 1.        ],\n",
       "       [0.16666667, 0.001     , 1.        ],\n",
       "       [0.        , 0.        , 0.        ],\n",
       "       [0.        , 0.        , 0.        ],\n",
       "       [0.        , 0.        , 0.        ],\n",
       "       [0.        , 0.        , 0.        ],\n",
       "       [0.        , 0.        , 0.        ]])"
      ]
     },
     "execution_count": 8,
     "metadata": {},
     "output_type": "execute_result"
    }
   ],
   "source": [
    "transaction_ie.get_batch([0,4,2,8,9])[0][2]"
   ]
  },
  {
   "cell_type": "code",
   "execution_count": null,
   "metadata": {},
   "outputs": [],
   "source": []
  },
  {
   "cell_type": "code",
   "execution_count": null,
   "metadata": {},
   "outputs": [],
   "source": []
  },
  {
   "cell_type": "code",
   "execution_count": 9,
   "metadata": {},
   "outputs": [
    {
     "name": "stdout",
     "output_type": "stream",
     "text": [
      "Original model\n",
      "_________________________________________________________________\n",
      "Layer (type)                 Output Shape              Param #   \n",
      "=================================================================\n",
      "input_3 (InputLayer)         (None, 5)                 0         \n",
      "_________________________________________________________________\n",
      "dense_4 (Dense)              (None, 8)                 48        \n",
      "_________________________________________________________________\n",
      "dense_5 (Dense)              (None, 8)                 72        \n",
      "=================================================================\n",
      "Total params: 120\n",
      "Trainable params: 120\n",
      "Non-trainable params: 0\n",
      "_________________________________________________________________\n",
      "\n",
      "\n",
      "Retrieved model\n",
      "__________________________________________________________________________________________________\n",
      "Layer (type)                    Output Shape         Param #     Connected to                     \n",
      "==================================================================================================\n",
      "inp_client_ie (InputLayer)      (None, 5)            0                                            \n",
      "__________________________________________________________________________________________________\n",
      "inp_picture_ie (InputLayer)     (None, 128, 128, 3)  0                                            \n",
      "__________________________________________________________________________________________________\n",
      "inp_transaction_ie (InputLayer) (None, None, 3)      0                                            \n",
      "__________________________________________________________________________________________________\n",
      "m_client_ie (Model)             (None, 8)            120         inp_client_ie[0][0]              \n",
      "__________________________________________________________________________________________________\n",
      "m_picture_ie (Model)            (None, 5)            819485      inp_picture_ie[0][0]             \n",
      "__________________________________________________________________________________________________\n",
      "m_transaction_ie (Model)        (None, 8)            18584       inp_transaction_ie[0][0]         \n",
      "__________________________________________________________________________________________________\n",
      "concatenate_1 (Concatenate)     (None, 21)           0           m_client_ie[1][0]                \n",
      "                                                                 m_picture_ie[2][0]               \n",
      "                                                                 m_transaction_ie[2][0]           \n",
      "==================================================================================================\n",
      "Total params: 838,189\n",
      "Trainable params: 838,189\n",
      "Non-trainable params: 0\n",
      "__________________________________________________________________________________________________\n"
     ]
    }
   ],
   "source": [
    "#numerical for age and income, one-hot encoding for residence_region\n",
    "client_data = [[x['age'], x['income'], x['residence_region']] for x in clientdata]\n",
    "client_shape = (5,)\n",
    "def client_preproc_function(x):\n",
    "    #receives a list with age, income and residence_region\n",
    "    idx = regions_id[x[2]]\n",
    "    region_1hot = [0] * len(regions_id)\n",
    "    region_1hot[idx] = 1\n",
    "\n",
    "    return np.array([x[0]/100, np.log(1+x[1])]+region_1hot)\n",
    "\n",
    "inp=L.Input(client_shape)\n",
    "x=inp\n",
    "x=L.Dense(8, activation='relu')(x)\n",
    "x=L.Dense(8, activation='relu')(x)\n",
    "client_model = Model(inputs=inp, outputs=x)\n",
    "\n",
    "print('Original model')\n",
    "client_model.summary()\n",
    "\n",
    "client_ie = IntelligentElement(client_data, client_model, client_shape, preprocess_function=client_preproc_function,\n",
    "                               children_ie=[picture_ie, transaction_ie], name='client_ie')\n",
    "\n",
    "m, ii, oo = client_ie.retrieve_model_inputs_outputs()\n",
    "print('\\n\\nRetrieved model')\n",
    "m.summary()"
   ]
  },
  {
   "cell_type": "code",
   "execution_count": 10,
   "metadata": {},
   "outputs": [
    {
     "data": {
      "text/plain": [
       "array([0.3       , 3.40119738, 1.        , 0.        , 0.        ])"
      ]
     },
     "execution_count": 10,
     "metadata": {},
     "output_type": "execute_result"
    }
   ],
   "source": [
    "client_ie.preprocess_function(client_ie.data[2])"
   ]
  },
  {
   "cell_type": "code",
   "execution_count": 11,
   "metadata": {},
   "outputs": [
    {
     "name": "stdout",
     "output_type": "stream",
     "text": [
      "[[0.49       3.40119738 1.         0.         0.        ]\n",
      " [0.29       3.36729583 1.         0.         0.        ]\n",
      " [0.3        3.40119738 1.         0.         0.        ]\n",
      " [0.35       3.8286414  0.         1.         0.        ]\n",
      " [0.21       3.36729583 1.         0.         0.        ]]\n",
      "[[0.         0.002      1.        ]\n",
      " [0.08333333 0.001      1.        ]\n",
      " [0.16666667 0.001      1.        ]\n",
      " [0.         0.         0.        ]\n",
      " [0.         0.         0.        ]\n",
      " [0.         0.         0.        ]\n",
      " [0.         0.         0.        ]\n",
      " [0.         0.         0.        ]]\n"
     ]
    }
   ],
   "source": [
    "b = client_ie.get_batch([0,4,2,8,9])\n",
    "print(b[0])\n",
    "print(b[2][2])"
   ]
  },
  {
   "cell_type": "code",
   "execution_count": null,
   "metadata": {},
   "outputs": [],
   "source": []
  },
  {
   "cell_type": "code",
   "execution_count": null,
   "metadata": {},
   "outputs": [],
   "source": []
  },
  {
   "cell_type": "code",
   "execution_count": null,
   "metadata": {},
   "outputs": [],
   "source": []
  }
 ],
 "metadata": {
  "kernelspec": {
   "display_name": "Python [default]",
   "language": "python",
   "name": "python3"
  },
  "language_info": {
   "codemirror_mode": {
    "name": "ipython",
    "version": 3
   },
   "file_extension": ".py",
   "mimetype": "text/x-python",
   "name": "python",
   "nbconvert_exporter": "python",
   "pygments_lexer": "ipython3",
   "version": "3.6.7"
  }
 },
 "nbformat": 4,
 "nbformat_minor": 2
}
