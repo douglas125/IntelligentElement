{
 "cells": [
  {
   "cell_type": "markdown",
   "metadata": {},
   "source": [
    "# Intelligent Element Design\n",
    "\n",
    "The idea of the intelligent element is to automate the creation of Keras models and data generation for complex nested structures."
   ]
  },
  {
   "cell_type": "code",
   "execution_count": 65,
   "metadata": {},
   "outputs": [],
   "source": [
    "from keras import Model\n",
    "import keras.layers as L\n",
    "\n",
    "def getMaxShape(x):\n",
    "    #print(len(x))\n",
    "    if isinstance(x,np.ndarray):\n",
    "        return x.shape\n",
    "    elif isinstance(x, list):\n",
    "        lstshapes = [getMaxShape(e) for e in x]\n",
    "        maxshape = np.max(lstshapes, axis=0)\n",
    "        if maxshape[0]>0:\n",
    "            maxshape = np.concatenate([np.array([len(x)]), maxshape])\n",
    "        else:\n",
    "            maxshape = np.array([len(x)])\n",
    "        return maxshape\n",
    "    return np.array([0])\n",
    "\n",
    "def identity_fcn(x):\n",
    "    return x\n",
    "\n",
    "class IntelligentElement:\n",
    "    '''\n",
    "    Implements IntelligentElement, a base class that can be used to automate Keras model creation\n",
    "    for complex nested structures\n",
    "    '''\n",
    "    \n",
    "    def __init__(self, data, model, input_shape, preprocess_function = None, children_ie = None, name=None):\n",
    "        '''\n",
    "        Initializes the IntelligentElement instance with its data, which must be a list.\n",
    "        \n",
    "        All data passed to children IntelligentElements should be a list with the same number of elements\n",
    "        and matching information. If a dynamic axis is found (input_shape[k] = None for some k), the vectors are \n",
    "        padded with zeroes until they get to the max length\n",
    "        \n",
    "        data        - list of samples that will be handled by this IE. If there is no model, it can contain empty elements\n",
    "        children_ie - IEs that handle nested structures\n",
    "        \n",
    "        preprocess_function - function that is applied to each element of data list in order \n",
    "                              to retrieve neural network ready data as numpy arrays\n",
    "        \n",
    "        model - None if there is no data associated, otherwise a Keras Model\n",
    "        '''\n",
    "        \n",
    "        assert isinstance(data, list), 'data should be a list of samples to be handled by this IntelligentElement'\n",
    "        \n",
    "        if model is not None:\n",
    "            assert isinstance(model, Model), 'model should be a Keras model'\n",
    "            #the shape requirement is that children output matches parent input shape\n",
    "            #assert len(model.output_shape) == 2, 'model output shape should have length 2'\n",
    "\n",
    "        if children_ie is not None:\n",
    "            for c in children_ie:\n",
    "                assert isinstance(c, IntelligentElement), 'children_ie must contain only IntelligentElement'\n",
    "                assert len(c.data) == len(data), 'length of data vector must be the same for parents and children'\n",
    "        \n",
    "        if preprocess_function is None:\n",
    "            self.preprocess_function = identity_fcn\n",
    "        else:\n",
    "            self.preprocess_function = preprocess_function\n",
    "            \n",
    "        self.name=name\n",
    "        self.data = data\n",
    "        self.input_shape = input_shape\n",
    "        self.children_ie = children_ie\n",
    "        self.model = model\n",
    "        \n",
    "        if model is not None:\n",
    "            self.model.name = 'm_{}'.format(name)\n",
    "\n",
    "    def retrieve_model_inputs_outputs(self):\n",
    "        inps=[]\n",
    "        outs=[]\n",
    "        \n",
    "        if self.children_ie is not None:\n",
    "            for c in self.children_ie:\n",
    "                cmodel, cinp, cout = c.retrieve_model_inputs_outputs()\n",
    "                inps += cinp\n",
    "                outs.append(cout)\n",
    "                \n",
    "        if self.model is not None:\n",
    "            inp = L.Input(self.input_shape, name='inp_{}'.format(self.name))\n",
    "            inps.append(inp)\n",
    "            outs.append(inp)\n",
    "            \n",
    "            #print([q.shape for q in outs])\n",
    "            if len(outs) > 1:\n",
    "                o = L.Concatenate()(outs)\n",
    "            else:\n",
    "                o = outs[0]\n",
    "            #print(o.shape)\n",
    "            outs = [self.model(o)]\n",
    "            \n",
    "        if len(outs) > 1:\n",
    "            o = L.Concatenate()(outs)\n",
    "        else:\n",
    "            o = outs[0]\n",
    "        \n",
    "        ret_model = Model(inputs = inps, outputs = o, name = self.name)\n",
    "        \n",
    "        return ret_model, inps, o\n",
    "    \n",
    "    def get_children_sum_last_output_shapes(self):\n",
    "        '''\n",
    "        Retrieves the sum of the last dimension of shape of children\n",
    "        \n",
    "        This is usually number of dimensions of RNN or number of channels of images,\n",
    "        useful to build model\n",
    "        '''\n",
    "        return sum([x.model.output_shape[-1] for x in self.children_ie])\n",
    "    \n",
    "    def get_batch(self, indices):\n",
    "        '''\n",
    "        Retrieves a batch of data as requested in indices\n",
    "        '''\n",
    "        inps=[]\n",
    "        batch_data = [self.data[i] for i in indices]\n",
    "\n",
    "        if self.children_ie is not None:\n",
    "            for c in self.children_ie:\n",
    "                cinp = c.get_batch(indices)\n",
    "                inps += cinp\n",
    "        \n",
    "        if self.model is not None:\n",
    "            cur_inps = [self.preprocess_function(x) for x in batch_data]\n",
    "            \n",
    "            #if there are no dynamic axes, we are done. if not, we need to pad\n",
    "            shapes = np.array([getMaxShape(x) for x in cur_inps])\n",
    "            maxshape = np.max(shapes,axis=0)\n",
    "            \n",
    "            #print(maxshape)\n",
    "            padded_inp = np.zeros( (len(indices),*maxshape) )\n",
    "            \n",
    "            #print('Padded shape: {}'.format(padded_inp.shape))\n",
    "            \n",
    "            \n",
    "            recursiveFill(padded_inp, cur_inps, ())\n",
    "            \n",
    "            #cur_n=0\n",
    "            #for vec in cur_inps:\n",
    "            #    ss = ( (cur_n,) )\n",
    "            #    for p in vec.shape:\n",
    "            #        ss += (slice(0,p),)\n",
    "                    \n",
    "                #print(ss)\n",
    "                #print(np.array(vec))\n",
    "                #print(padded_inp.shape)\n",
    "                \n",
    "            #    padded_inp[ss] = vec\n",
    "            #    cur_n+=1\n",
    "            \n",
    "            inps.append(padded_inp)\n",
    "            \n",
    "            \n",
    "        return inps"
   ]
  },
  {
   "cell_type": "code",
   "execution_count": 66,
   "metadata": {},
   "outputs": [],
   "source": [
    "def recursiveFill(padded_input, vec, cur_slice):\n",
    "    #print(cur_slice)\n",
    "    ss = cur_slice\n",
    "    if isinstance(vec, np.ndarray):\n",
    "        for p in vec.shape:\n",
    "            ss += (slice(0,p),)        \n",
    "        padded_input[ss] = vec\n",
    "    elif isinstance(vec, list):\n",
    "        cur_n=0\n",
    "        for v in vec:\n",
    "            ss=cur_slice + ((cur_n,))\n",
    "            recursiveFill(padded_input, v, ss)\n",
    "            cur_n+=1"
   ]
  },
  {
   "cell_type": "code",
   "execution_count": null,
   "metadata": {},
   "outputs": [],
   "source": []
  },
  {
   "cell_type": "markdown",
   "metadata": {},
   "source": [
    "# Sample synthesized use"
   ]
  },
  {
   "cell_type": "code",
   "execution_count": null,
   "metadata": {},
   "outputs": [],
   "source": []
  },
  {
   "cell_type": "code",
   "execution_count": 2,
   "metadata": {},
   "outputs": [],
   "source": [
    "import numpy as np\n",
    "import pandas as pd\n",
    "regions_id = {'countryside' : 0, 'central' : 1, 'innerside' : 2}\n",
    "def genMonthDetails():\n",
    "    ndays = np.random.randint(4,7)\n",
    "    ans=[]\n",
    "    for i in range(ndays):\n",
    "        ans.append({'day' : i, 'raw_amount' : np.random.randint(400,7000)})\n",
    "    return ans\n",
    "    \n",
    "def genClientData():\n",
    "    regions = ['countryside', 'central', 'innerside']\n",
    "    \n",
    "    ans = {'income' : np.random.randint(10,50), 'age' : np.random.randint(20,70), \n",
    "           'residence_region' : regions[np.random.randint(len(regions))] }\n",
    "    \n",
    "    ans['last_transactions'] = []\n",
    "    nlast = np.random.randint(3,10)\n",
    "    for i in range(nlast):\n",
    "        last_transaction = {'month' : i, 'value':np.random.randint(1,5)}\n",
    "        last_transaction['details'] = genMonthDetails()\n",
    "        ans['last_transactions'].append(last_transaction)\n",
    "    \n",
    "    ans['picture'] = np.ones((128,128,3))\n",
    "    \n",
    "    return ans\n",
    "\n",
    "clientdata = [genClientData() for i in range(20)]"
   ]
  },
  {
   "cell_type": "code",
   "execution_count": 3,
   "metadata": {},
   "outputs": [
    {
     "data": {
      "text/html": [
       "<div>\n",
       "<style scoped>\n",
       "    .dataframe tbody tr th:only-of-type {\n",
       "        vertical-align: middle;\n",
       "    }\n",
       "\n",
       "    .dataframe tbody tr th {\n",
       "        vertical-align: top;\n",
       "    }\n",
       "\n",
       "    .dataframe thead th {\n",
       "        text-align: right;\n",
       "    }\n",
       "</style>\n",
       "<table border=\"1\" class=\"dataframe\">\n",
       "  <thead>\n",
       "    <tr style=\"text-align: right;\">\n",
       "      <th></th>\n",
       "      <th>age</th>\n",
       "      <th>income</th>\n",
       "      <th>last_transactions</th>\n",
       "      <th>picture</th>\n",
       "      <th>residence_region</th>\n",
       "    </tr>\n",
       "  </thead>\n",
       "  <tbody>\n",
       "    <tr>\n",
       "      <th>0</th>\n",
       "      <td>38</td>\n",
       "      <td>22</td>\n",
       "      <td>[{'month': 0, 'value': 2, 'details': [{'day': ...</td>\n",
       "      <td>[[[1.0, 1.0, 1.0], [1.0, 1.0, 1.0], [1.0, 1.0,...</td>\n",
       "      <td>innerside</td>\n",
       "    </tr>\n",
       "    <tr>\n",
       "      <th>1</th>\n",
       "      <td>28</td>\n",
       "      <td>41</td>\n",
       "      <td>[{'month': 0, 'value': 2, 'details': [{'day': ...</td>\n",
       "      <td>[[[1.0, 1.0, 1.0], [1.0, 1.0, 1.0], [1.0, 1.0,...</td>\n",
       "      <td>countryside</td>\n",
       "    </tr>\n",
       "    <tr>\n",
       "      <th>2</th>\n",
       "      <td>28</td>\n",
       "      <td>43</td>\n",
       "      <td>[{'month': 0, 'value': 3, 'details': [{'day': ...</td>\n",
       "      <td>[[[1.0, 1.0, 1.0], [1.0, 1.0, 1.0], [1.0, 1.0,...</td>\n",
       "      <td>countryside</td>\n",
       "    </tr>\n",
       "    <tr>\n",
       "      <th>3</th>\n",
       "      <td>39</td>\n",
       "      <td>11</td>\n",
       "      <td>[{'month': 0, 'value': 1, 'details': [{'day': ...</td>\n",
       "      <td>[[[1.0, 1.0, 1.0], [1.0, 1.0, 1.0], [1.0, 1.0,...</td>\n",
       "      <td>central</td>\n",
       "    </tr>\n",
       "    <tr>\n",
       "      <th>4</th>\n",
       "      <td>34</td>\n",
       "      <td>11</td>\n",
       "      <td>[{'month': 0, 'value': 3, 'details': [{'day': ...</td>\n",
       "      <td>[[[1.0, 1.0, 1.0], [1.0, 1.0, 1.0], [1.0, 1.0,...</td>\n",
       "      <td>central</td>\n",
       "    </tr>\n",
       "  </tbody>\n",
       "</table>\n",
       "</div>"
      ],
      "text/plain": [
       "   age  income                                  last_transactions  \\\n",
       "0   38      22  [{'month': 0, 'value': 2, 'details': [{'day': ...   \n",
       "1   28      41  [{'month': 0, 'value': 2, 'details': [{'day': ...   \n",
       "2   28      43  [{'month': 0, 'value': 3, 'details': [{'day': ...   \n",
       "3   39      11  [{'month': 0, 'value': 1, 'details': [{'day': ...   \n",
       "4   34      11  [{'month': 0, 'value': 3, 'details': [{'day': ...   \n",
       "\n",
       "                                             picture residence_region  \n",
       "0  [[[1.0, 1.0, 1.0], [1.0, 1.0, 1.0], [1.0, 1.0,...        innerside  \n",
       "1  [[[1.0, 1.0, 1.0], [1.0, 1.0, 1.0], [1.0, 1.0,...      countryside  \n",
       "2  [[[1.0, 1.0, 1.0], [1.0, 1.0, 1.0], [1.0, 1.0,...      countryside  \n",
       "3  [[[1.0, 1.0, 1.0], [1.0, 1.0, 1.0], [1.0, 1.0,...          central  \n",
       "4  [[[1.0, 1.0, 1.0], [1.0, 1.0, 1.0], [1.0, 1.0,...          central  "
      ]
     },
     "execution_count": 3,
     "metadata": {},
     "output_type": "execute_result"
    }
   ],
   "source": [
    "pd.DataFrame(clientdata).head()"
   ]
  },
  {
   "cell_type": "code",
   "execution_count": null,
   "metadata": {},
   "outputs": [],
   "source": []
  },
  {
   "cell_type": "code",
   "execution_count": 67,
   "metadata": {},
   "outputs": [
    {
     "name": "stdout",
     "output_type": "stream",
     "text": [
      "Original model\n",
      "_________________________________________________________________\n",
      "Layer (type)                 Output Shape              Param #   \n",
      "=================================================================\n",
      "input_13 (InputLayer)        (None, 128, 128, 3)       0         \n",
      "_________________________________________________________________\n",
      "conv2d_9 (Conv2D)            (None, 128, 128, 10)      280       \n",
      "_________________________________________________________________\n",
      "flatten_9 (Flatten)          (None, 163840)            0         \n",
      "_________________________________________________________________\n",
      "dense_13 (Dense)             (None, 5)                 819205    \n",
      "=================================================================\n",
      "Total params: 819,485\n",
      "Trainable params: 819,485\n",
      "Non-trainable params: 0\n",
      "_________________________________________________________________\n",
      "\n",
      "\n",
      "Retrieved model\n",
      "_________________________________________________________________\n",
      "Layer (type)                 Output Shape              Param #   \n",
      "=================================================================\n",
      "inp_picture_ie (InputLayer)  (None, 128, 128, 3)       0         \n",
      "_________________________________________________________________\n",
      "m_picture_ie (Model)         (None, 5)                 819485    \n",
      "=================================================================\n",
      "Total params: 819,485\n",
      "Trainable params: 819,485\n",
      "Non-trainable params: 0\n",
      "_________________________________________________________________\n"
     ]
    }
   ],
   "source": [
    "picture_data = [x['picture'] for x in clientdata]\n",
    "picture_shape = (128,128,3)\n",
    "inp=L.Input(picture_shape)\n",
    "x=L.Conv2D(10,(3,3), activation='relu', padding='same')(inp)\n",
    "x=L.Flatten()(x)\n",
    "x=L.Dense(5,activation='relu')(x)\n",
    "picture_model = Model(inputs=inp, outputs=x)\n",
    "print('Original model')\n",
    "picture_model.summary()\n",
    "\n",
    "picture_ie = IntelligentElement(picture_data, picture_model, picture_shape, name='picture_ie')\n",
    "\n",
    "m, ii, oo = picture_ie.retrieve_model_inputs_outputs()\n",
    "print('\\n\\nRetrieved model')\n",
    "m.summary()"
   ]
  },
  {
   "cell_type": "code",
   "execution_count": 68,
   "metadata": {},
   "outputs": [
    {
     "name": "stdout",
     "output_type": "stream",
     "text": [
      "Padded shape: (5, 128, 128, 3)\n"
     ]
    },
    {
     "data": {
      "text/plain": [
       "(5, 128, 128, 3)"
      ]
     },
     "execution_count": 68,
     "metadata": {},
     "output_type": "execute_result"
    }
   ],
   "source": [
    "picture_ie.get_batch([0,4,5,8,9])[0].shape"
   ]
  },
  {
   "cell_type": "code",
   "execution_count": null,
   "metadata": {},
   "outputs": [],
   "source": []
  },
  {
   "cell_type": "code",
   "execution_count": 69,
   "metadata": {},
   "outputs": [
    {
     "name": "stdout",
     "output_type": "stream",
     "text": [
      "Original model\n",
      "_________________________________________________________________\n",
      "Layer (type)                 Output Shape              Param #   \n",
      "=================================================================\n",
      "input_14 (InputLayer)        (None, None, None, 3)     0         \n",
      "_________________________________________________________________\n",
      "time_distributed_9 (TimeDist (None, None, 64)          17408     \n",
      "_________________________________________________________________\n",
      "time_distributed_10 (TimeDis (None, None, 8)           520       \n",
      "=================================================================\n",
      "Total params: 17,928\n",
      "Trainable params: 17,928\n",
      "Non-trainable params: 0\n",
      "_________________________________________________________________\n",
      "\n",
      "\n",
      "Retrieved model\n",
      "_________________________________________________________________\n",
      "Layer (type)                 Output Shape              Param #   \n",
      "=================================================================\n",
      "inp_details_ie (InputLayer)  (None, None, None, 3)     0         \n",
      "_________________________________________________________________\n",
      "m_details_ie (Model)         (None, None, 8)           17928     \n",
      "=================================================================\n",
      "Total params: 17,928\n",
      "Trainable params: 17,928\n",
      "Non-trainable params: 0\n",
      "_________________________________________________________________\n"
     ]
    }
   ],
   "source": [
    "details_data = [[y['details'] for y in x['last_transactions']] for x in clientdata]\n",
    "details_shape = (None, None, 3)\n",
    "def details_preproc_function(x):\n",
    "    #receives a list of dictionaries with keys 'day' and 'raw_amount'\n",
    "    #append a 1 to indicate that these values were not padded\n",
    "    ans = []\n",
    "    for item in x:\n",
    "        monthdetails = []\n",
    "        for detaildata in item:\n",
    "            monthdetails.append([detaildata['day']/30, detaildata['raw_amount']/10000, 1])\n",
    "        ans.append(np.array(monthdetails))\n",
    "    \n",
    "    #handle case when list is empty\n",
    "    if len(ans) == 0:\n",
    "        ans.append(np.array([[0,0,0]]))\n",
    "    return ans\n",
    "\n",
    "inp = L.Input(details_shape)\n",
    "x = L.TimeDistributed(L.LSTM(64))(inp)\n",
    "x = L.TimeDistributed(L.Dense(8, activation='relu'))(x)\n",
    "details_model = Model(inputs=inp, outputs=x)\n",
    "print('Original model')\n",
    "details_model.summary()\n",
    "\n",
    "details_ie = IntelligentElement(details_data, details_model, details_shape, \n",
    "                                    preprocess_function=details_preproc_function, name='details_ie')\n",
    "\n",
    "m, ii, oo = details_ie.retrieve_model_inputs_outputs()\n",
    "print('\\n\\nRetrieved model')\n",
    "m.summary()"
   ]
  },
  {
   "cell_type": "code",
   "execution_count": 70,
   "metadata": {},
   "outputs": [
    {
     "data": {
      "text/plain": [
       "[[{'day': 0, 'raw_amount': 2458},\n",
       "  {'day': 1, 'raw_amount': 3193},\n",
       "  {'day': 2, 'raw_amount': 3574},\n",
       "  {'day': 3, 'raw_amount': 5309},\n",
       "  {'day': 4, 'raw_amount': 6747},\n",
       "  {'day': 5, 'raw_amount': 5231}],\n",
       " [{'day': 0, 'raw_amount': 6734},\n",
       "  {'day': 1, 'raw_amount': 3569},\n",
       "  {'day': 2, 'raw_amount': 1230},\n",
       "  {'day': 3, 'raw_amount': 1558},\n",
       "  {'day': 4, 'raw_amount': 3099},\n",
       "  {'day': 5, 'raw_amount': 5081}],\n",
       " [{'day': 0, 'raw_amount': 6730},\n",
       "  {'day': 1, 'raw_amount': 742},\n",
       "  {'day': 2, 'raw_amount': 6349},\n",
       "  {'day': 3, 'raw_amount': 6680}],\n",
       " [{'day': 0, 'raw_amount': 1260},\n",
       "  {'day': 1, 'raw_amount': 5194},\n",
       "  {'day': 2, 'raw_amount': 946},\n",
       "  {'day': 3, 'raw_amount': 3434},\n",
       "  {'day': 4, 'raw_amount': 6776},\n",
       "  {'day': 5, 'raw_amount': 887}],\n",
       " [{'day': 0, 'raw_amount': 5966},\n",
       "  {'day': 1, 'raw_amount': 3524},\n",
       "  {'day': 2, 'raw_amount': 1987},\n",
       "  {'day': 3, 'raw_amount': 1535}],\n",
       " [{'day': 0, 'raw_amount': 922},\n",
       "  {'day': 1, 'raw_amount': 4773},\n",
       "  {'day': 2, 'raw_amount': 4858},\n",
       "  {'day': 3, 'raw_amount': 1259},\n",
       "  {'day': 4, 'raw_amount': 954}]]"
      ]
     },
     "execution_count": 70,
     "metadata": {},
     "output_type": "execute_result"
    }
   ],
   "source": [
    "details_data[0]"
   ]
  },
  {
   "cell_type": "code",
   "execution_count": 71,
   "metadata": {},
   "outputs": [
    {
     "data": {
      "text/plain": [
       "[array([[0.        , 0.5581    , 1.        ],\n",
       "        [0.03333333, 0.636     , 1.        ],\n",
       "        [0.06666667, 0.3908    , 1.        ],\n",
       "        [0.1       , 0.6271    , 1.        ],\n",
       "        [0.13333333, 0.5298    , 1.        ],\n",
       "        [0.16666667, 0.6454    , 1.        ]]),\n",
       " array([[0.        , 0.1874    , 1.        ],\n",
       "        [0.03333333, 0.5207    , 1.        ],\n",
       "        [0.06666667, 0.1584    , 1.        ],\n",
       "        [0.1       , 0.1641    , 1.        ],\n",
       "        [0.13333333, 0.2005    , 1.        ],\n",
       "        [0.16666667, 0.2931    , 1.        ]]),\n",
       " array([[0.        , 0.1498    , 1.        ],\n",
       "        [0.03333333, 0.5349    , 1.        ],\n",
       "        [0.06666667, 0.2773    , 1.        ],\n",
       "        [0.1       , 0.6053    , 1.        ],\n",
       "        [0.13333333, 0.3314    , 1.        ]]),\n",
       " array([[0.        , 0.2592    , 1.        ],\n",
       "        [0.03333333, 0.2188    , 1.        ],\n",
       "        [0.06666667, 0.3813    , 1.        ],\n",
       "        [0.1       , 0.3936    , 1.        ]])]"
      ]
     },
     "execution_count": 71,
     "metadata": {},
     "output_type": "execute_result"
    }
   ],
   "source": [
    "details_preproc = details_preproc_function(details_data[1])\n",
    "details_preproc"
   ]
  },
  {
   "cell_type": "code",
   "execution_count": null,
   "metadata": {},
   "outputs": [],
   "source": []
  },
  {
   "cell_type": "code",
   "execution_count": 72,
   "metadata": {},
   "outputs": [
    {
     "data": {
      "text/plain": [
       "array([4, 6, 3])"
      ]
     },
     "execution_count": 72,
     "metadata": {},
     "output_type": "execute_result"
    }
   ],
   "source": [
    "getMaxShape(details_preproc)"
   ]
  },
  {
   "cell_type": "code",
   "execution_count": 73,
   "metadata": {},
   "outputs": [
    {
     "data": {
      "text/plain": [
       "8"
      ]
     },
     "execution_count": 73,
     "metadata": {},
     "output_type": "execute_result"
    }
   ],
   "source": [
    "details_ie.model.output_shape[-1]"
   ]
  },
  {
   "cell_type": "code",
   "execution_count": 74,
   "metadata": {},
   "outputs": [
    {
     "name": "stdout",
     "output_type": "stream",
     "text": [
      "Padded shape: (5, 9, 6, 3)\n"
     ]
    }
   ],
   "source": [
    "b = details_ie.get_batch([0,1,2,8,9])"
   ]
  },
  {
   "cell_type": "code",
   "execution_count": 75,
   "metadata": {},
   "outputs": [
    {
     "data": {
      "text/plain": [
       "array([[[0.        , 0.5581    , 1.        ],\n",
       "        [0.03333333, 0.636     , 1.        ],\n",
       "        [0.06666667, 0.3908    , 1.        ],\n",
       "        [0.1       , 0.6271    , 1.        ],\n",
       "        [0.13333333, 0.5298    , 1.        ],\n",
       "        [0.16666667, 0.6454    , 1.        ]],\n",
       "\n",
       "       [[0.        , 0.1874    , 1.        ],\n",
       "        [0.03333333, 0.5207    , 1.        ],\n",
       "        [0.06666667, 0.1584    , 1.        ],\n",
       "        [0.1       , 0.1641    , 1.        ],\n",
       "        [0.13333333, 0.2005    , 1.        ],\n",
       "        [0.16666667, 0.2931    , 1.        ]],\n",
       "\n",
       "       [[0.        , 0.1498    , 1.        ],\n",
       "        [0.03333333, 0.5349    , 1.        ],\n",
       "        [0.06666667, 0.2773    , 1.        ],\n",
       "        [0.1       , 0.6053    , 1.        ],\n",
       "        [0.13333333, 0.3314    , 1.        ],\n",
       "        [0.        , 0.        , 0.        ]],\n",
       "\n",
       "       [[0.        , 0.2592    , 1.        ],\n",
       "        [0.03333333, 0.2188    , 1.        ],\n",
       "        [0.06666667, 0.3813    , 1.        ],\n",
       "        [0.1       , 0.3936    , 1.        ],\n",
       "        [0.        , 0.        , 0.        ],\n",
       "        [0.        , 0.        , 0.        ]],\n",
       "\n",
       "       [[0.        , 0.        , 0.        ],\n",
       "        [0.        , 0.        , 0.        ],\n",
       "        [0.        , 0.        , 0.        ],\n",
       "        [0.        , 0.        , 0.        ],\n",
       "        [0.        , 0.        , 0.        ],\n",
       "        [0.        , 0.        , 0.        ]],\n",
       "\n",
       "       [[0.        , 0.        , 0.        ],\n",
       "        [0.        , 0.        , 0.        ],\n",
       "        [0.        , 0.        , 0.        ],\n",
       "        [0.        , 0.        , 0.        ],\n",
       "        [0.        , 0.        , 0.        ],\n",
       "        [0.        , 0.        , 0.        ]],\n",
       "\n",
       "       [[0.        , 0.        , 0.        ],\n",
       "        [0.        , 0.        , 0.        ],\n",
       "        [0.        , 0.        , 0.        ],\n",
       "        [0.        , 0.        , 0.        ],\n",
       "        [0.        , 0.        , 0.        ],\n",
       "        [0.        , 0.        , 0.        ]],\n",
       "\n",
       "       [[0.        , 0.        , 0.        ],\n",
       "        [0.        , 0.        , 0.        ],\n",
       "        [0.        , 0.        , 0.        ],\n",
       "        [0.        , 0.        , 0.        ],\n",
       "        [0.        , 0.        , 0.        ],\n",
       "        [0.        , 0.        , 0.        ]],\n",
       "\n",
       "       [[0.        , 0.        , 0.        ],\n",
       "        [0.        , 0.        , 0.        ],\n",
       "        [0.        , 0.        , 0.        ],\n",
       "        [0.        , 0.        , 0.        ],\n",
       "        [0.        , 0.        , 0.        ],\n",
       "        [0.        , 0.        , 0.        ]]])"
      ]
     },
     "execution_count": 75,
     "metadata": {},
     "output_type": "execute_result"
    }
   ],
   "source": [
    "b[0][1]"
   ]
  },
  {
   "cell_type": "code",
   "execution_count": null,
   "metadata": {},
   "outputs": [],
   "source": []
  },
  {
   "cell_type": "code",
   "execution_count": null,
   "metadata": {},
   "outputs": [],
   "source": []
  },
  {
   "cell_type": "code",
   "execution_count": null,
   "metadata": {},
   "outputs": [],
   "source": []
  },
  {
   "cell_type": "code",
   "execution_count": 76,
   "metadata": {},
   "outputs": [
    {
     "name": "stdout",
     "output_type": "stream",
     "text": [
      "Original model\n",
      "_________________________________________________________________\n",
      "Layer (type)                 Output Shape              Param #   \n",
      "=================================================================\n",
      "input_15 (InputLayer)        (None, None, 11)          0         \n",
      "_________________________________________________________________\n",
      "lstm_6 (LSTM)                (None, 64)                19456     \n",
      "_________________________________________________________________\n",
      "dense_15 (Dense)             (None, 16)                1040      \n",
      "_________________________________________________________________\n",
      "dense_16 (Dense)             (None, 8)                 136       \n",
      "=================================================================\n",
      "Total params: 20,632\n",
      "Trainable params: 20,632\n",
      "Non-trainable params: 0\n",
      "_________________________________________________________________\n",
      "\n",
      "\n",
      "Retrieved model\n",
      "__________________________________________________________________________________________________\n",
      "Layer (type)                    Output Shape         Param #     Connected to                     \n",
      "==================================================================================================\n",
      "inp_details_ie (InputLayer)     (None, None, None, 3 0                                            \n",
      "__________________________________________________________________________________________________\n",
      "m_details_ie (Model)            (None, None, 8)      17928       inp_details_ie[0][0]             \n",
      "__________________________________________________________________________________________________\n",
      "inp_transaction_ie (InputLayer) (None, None, 3)      0                                            \n",
      "__________________________________________________________________________________________________\n",
      "concatenate_1 (Concatenate)     (None, None, 11)     0           m_details_ie[2][0]               \n",
      "                                                                 inp_transaction_ie[0][0]         \n",
      "__________________________________________________________________________________________________\n",
      "m_transaction_ie (Model)        (None, 8)            20632       concatenate_1[0][0]              \n",
      "==================================================================================================\n",
      "Total params: 38,560\n",
      "Trainable params: 38,560\n",
      "Non-trainable params: 0\n",
      "__________________________________________________________________________________________________\n"
     ]
    }
   ],
   "source": [
    "transaction_data = [x['last_transactions'] for x in clientdata]\n",
    "transaction_shape = (None, 3)\n",
    "\n",
    "def transaction_preproc_function(x):\n",
    "    #receives a dictionary with keys 'month' and 'value'\n",
    "    #append a 1 to indicate that these values were not padded\n",
    "    ans = []\n",
    "    for item in x:\n",
    "        ans.append([item['month']/12, item['value']/1000, 1])\n",
    "    \n",
    "    #handle case when list is empty\n",
    "    if len(ans) == 0:\n",
    "        ans.append([0,0,0])\n",
    "    \n",
    "    return np.array(ans)\n",
    "\n",
    "inp = L.Input( (None,3+details_ie.model.output_shape[-1]) )\n",
    "\n",
    "#inp = L.Input(transaction_shape)\n",
    "x = L.LSTM(64)(inp)\n",
    "x = L.Dense(16, activation='relu')(x)\n",
    "x = L.Dense(8, activation='relu')(x)\n",
    "transaction_model = Model(inputs=inp, outputs=x)\n",
    "print('Original model')\n",
    "transaction_model.summary()\n",
    "\n",
    "transaction_ie = IntelligentElement(transaction_data, transaction_model, transaction_shape, children_ie=[details_ie],\n",
    "                                    preprocess_function=transaction_preproc_function, name='transaction_ie')\n",
    "\n",
    "m, ii, oo = transaction_ie.retrieve_model_inputs_outputs()\n",
    "print('\\n\\nRetrieved model')\n",
    "m.summary()"
   ]
  },
  {
   "cell_type": "code",
   "execution_count": null,
   "metadata": {},
   "outputs": [],
   "source": []
  },
  {
   "cell_type": "code",
   "execution_count": 77,
   "metadata": {},
   "outputs": [
    {
     "data": {
      "text/plain": [
       "array([[0.        , 0.001     , 1.        ],\n",
       "       [0.08333333, 0.001     , 1.        ],\n",
       "       [0.16666667, 0.002     , 1.        ],\n",
       "       [0.25      , 0.003     , 1.        ],\n",
       "       [0.33333333, 0.004     , 1.        ],\n",
       "       [0.41666667, 0.002     , 1.        ]])"
      ]
     },
     "execution_count": 77,
     "metadata": {},
     "output_type": "execute_result"
    }
   ],
   "source": [
    "transaction_ie.preprocess_function(transaction_ie.data[3])"
   ]
  },
  {
   "cell_type": "code",
   "execution_count": 81,
   "metadata": {},
   "outputs": [
    {
     "name": "stdout",
     "output_type": "stream",
     "text": [
      "Padded shape: (5, 6, 6, 3)\n",
      "Padded shape: (5, 6, 3)\n",
      "2\n"
     ]
    },
    {
     "data": {
      "text/plain": [
       "array([[0.        , 0.001     , 1.        ],\n",
       "       [0.08333333, 0.001     , 1.        ],\n",
       "       [0.16666667, 0.002     , 1.        ],\n",
       "       [0.25      , 0.003     , 1.        ],\n",
       "       [0.33333333, 0.004     , 1.        ],\n",
       "       [0.41666667, 0.002     , 1.        ]])"
      ]
     },
     "execution_count": 81,
     "metadata": {},
     "output_type": "execute_result"
    }
   ],
   "source": [
    "bb = transaction_ie.get_batch([0,4,2,3,9])\n",
    "print(len(bb)) #2 because there is input for the nested details element\n",
    "bb[1][3]"
   ]
  },
  {
   "cell_type": "code",
   "execution_count": null,
   "metadata": {},
   "outputs": [],
   "source": []
  },
  {
   "cell_type": "code",
   "execution_count": null,
   "metadata": {},
   "outputs": [],
   "source": []
  },
  {
   "cell_type": "code",
   "execution_count": 85,
   "metadata": {},
   "outputs": [
    {
     "name": "stdout",
     "output_type": "stream",
     "text": [
      "Original model\n",
      "_________________________________________________________________\n",
      "Layer (type)                 Output Shape              Param #   \n",
      "=================================================================\n",
      "input_17 (InputLayer)        (None, 18)                0         \n",
      "_________________________________________________________________\n",
      "dense_19 (Dense)             (None, 8)                 152       \n",
      "_________________________________________________________________\n",
      "dense_20 (Dense)             (None, 8)                 72        \n",
      "=================================================================\n",
      "Total params: 224\n",
      "Trainable params: 224\n",
      "Non-trainable params: 0\n",
      "_________________________________________________________________\n",
      "\n",
      "\n",
      "Retrieved model\n",
      "__________________________________________________________________________________________________\n",
      "Layer (type)                    Output Shape         Param #     Connected to                     \n",
      "==================================================================================================\n",
      "inp_details_ie (InputLayer)     (None, None, None, 3 0                                            \n",
      "__________________________________________________________________________________________________\n",
      "m_details_ie (Model)            (None, None, 8)      17928       inp_details_ie[0][0]             \n",
      "__________________________________________________________________________________________________\n",
      "inp_transaction_ie (InputLayer) (None, None, 3)      0                                            \n",
      "__________________________________________________________________________________________________\n",
      "inp_picture_ie (InputLayer)     (None, 128, 128, 3)  0                                            \n",
      "__________________________________________________________________________________________________\n",
      "concatenate_4 (Concatenate)     (None, None, 11)     0           m_details_ie[4][0]               \n",
      "                                                                 inp_transaction_ie[0][0]         \n",
      "__________________________________________________________________________________________________\n",
      "m_picture_ie (Model)            (None, 5)            819485      inp_picture_ie[0][0]             \n",
      "__________________________________________________________________________________________________\n",
      "m_transaction_ie (Model)        (None, 8)            20632       concatenate_4[0][0]              \n",
      "__________________________________________________________________________________________________\n",
      "inp_client_ie (InputLayer)      (None, 5)            0                                            \n",
      "__________________________________________________________________________________________________\n",
      "concatenate_5 (Concatenate)     (None, 18)           0           m_picture_ie[3][0]               \n",
      "                                                                 m_transaction_ie[3][0]           \n",
      "                                                                 inp_client_ie[0][0]              \n",
      "__________________________________________________________________________________________________\n",
      "m_client_ie (Model)             (None, 8)            224         concatenate_5[0][0]              \n",
      "==================================================================================================\n",
      "Total params: 858,269\n",
      "Trainable params: 858,269\n",
      "Non-trainable params: 0\n",
      "__________________________________________________________________________________________________\n"
     ]
    }
   ],
   "source": [
    "#numerical for age and income, one-hot encoding for residence_region\n",
    "client_data = [[x['age'], x['income'], x['residence_region']] for x in clientdata]\n",
    "client_shape = (5,)\n",
    "def client_preproc_function(x):\n",
    "    #receives a list with age, income and residence_region\n",
    "    idx = regions_id[x[2]]\n",
    "    region_1hot = [0] * len(regions_id)\n",
    "    region_1hot[idx] = 1\n",
    "\n",
    "    return np.array([x[0]/100, np.log(1+x[1])]+region_1hot)\n",
    "\n",
    "inp=L.Input(  (client_shape[0]+picture_ie.model.output_shape[-1]+transaction_ie.model.output_shape[-1],) )\n",
    "x=inp\n",
    "x=L.Dense(8, activation='relu')(x)\n",
    "x=L.Dense(8, activation='relu')(x)\n",
    "client_model = Model(inputs=inp, outputs=x)\n",
    "\n",
    "print('Original model')\n",
    "client_model.summary()\n",
    "\n",
    "client_ie = IntelligentElement(client_data, client_model, client_shape, preprocess_function=client_preproc_function,\n",
    "                               children_ie=[picture_ie, transaction_ie], name='client_ie')\n",
    "\n",
    "m, ii, oo = client_ie.retrieve_model_inputs_outputs()\n",
    "print('\\n\\nRetrieved model')\n",
    "m.summary()"
   ]
  },
  {
   "cell_type": "code",
   "execution_count": 15,
   "metadata": {},
   "outputs": [
    {
     "data": {
      "text/plain": [
       "array([0.4       , 3.40119738, 0.        , 0.        , 1.        ])"
      ]
     },
     "execution_count": 15,
     "metadata": {},
     "output_type": "execute_result"
    }
   ],
   "source": [
    "client_ie.preprocess_function(client_ie.data[3])"
   ]
  },
  {
   "cell_type": "code",
   "execution_count": 16,
   "metadata": {},
   "outputs": [
    {
     "name": "stdout",
     "output_type": "stream",
     "text": [
      "[[0.23       3.66356165 1.         0.         0.        ]\n",
      " [0.6        2.48490665 0.         0.         1.        ]\n",
      " [0.21       2.7080502  0.         1.         0.        ]\n",
      " [0.38       2.99573227 0.         0.         1.        ]\n",
      " [0.68       3.8286414  0.         0.         1.        ]]\n",
      "[[0.         0.003      1.        ]\n",
      " [0.08333333 0.003      1.        ]\n",
      " [0.16666667 0.001      1.        ]\n",
      " [0.25       0.004      1.        ]\n",
      " [0.33333333 0.002      1.        ]\n",
      " [0.         0.         0.        ]\n",
      " [0.         0.         0.        ]\n",
      " [0.         0.         0.        ]\n",
      " [0.         0.         0.        ]]\n"
     ]
    }
   ],
   "source": [
    "b = client_ie.get_batch([0,4,2,8,9])\n",
    "print(b[0])\n",
    "print(b[2][3])"
   ]
  },
  {
   "cell_type": "code",
   "execution_count": null,
   "metadata": {},
   "outputs": [],
   "source": []
  },
  {
   "cell_type": "code",
   "execution_count": null,
   "metadata": {},
   "outputs": [],
   "source": []
  },
  {
   "cell_type": "code",
   "execution_count": null,
   "metadata": {},
   "outputs": [],
   "source": []
  }
 ],
 "metadata": {
  "kernelspec": {
   "display_name": "Python 3",
   "language": "python",
   "name": "python3"
  },
  "language_info": {
   "codemirror_mode": {
    "name": "ipython",
    "version": 3
   },
   "file_extension": ".py",
   "mimetype": "text/x-python",
   "name": "python",
   "nbconvert_exporter": "python",
   "pygments_lexer": "ipython3",
   "version": "3.6.5"
  }
 },
 "nbformat": 4,
 "nbformat_minor": 2
}
